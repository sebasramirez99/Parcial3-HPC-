{
  "cells": [
    {
      "cell_type": "markdown",
      "metadata": {
        "id": "view-in-github",
        "colab_type": "text"
      },
      "source": [
        "<a href=\"https://colab.research.google.com/github/sebasramirez99/Parcial3-HPC-/blob/main/ModeloPythonSklearn/Parcial3(HPC).ipynb\" target=\"_parent\"><img src=\"https://colab.research.google.com/assets/colab-badge.svg\" alt=\"Open In Colab\"/></a>"
      ]
    },
    {
      "cell_type": "markdown",
      "metadata": {
        "id": "OHEbpr1zPP0U"
      },
      "source": [
        "<div> \n",
        "<img src=\"https://res-5.cloudinary.com/crunchbase-production/image/upload/c_lpad,h_256,w_256,f_auto,q_auto:eco/v1455514364/pim02bzqvgz0hibsra41.png\" align=\"\"><br><br><FONT FACE=\"times new roman\" SIZE=5>\n",
        "</div>\n",
        "\n",
        "\n",
        "> *Nombre completo:*\n",
        "  * Juan Sebastián Bueno (juan.bueno01@correo.usa.edu.co) \n",
        "\n",
        "> *Escuela de Ciencias Exactas e Ingeniería*\n",
        "\n",
        "> *Fecha*: 11/05/2022\n",
        "\n",
        "> ***Parcial 3***"
      ]
    },
    {
      "cell_type": "code",
      "execution_count": null,
      "metadata": {
        "id": "QLDs4lv4PBfv"
      },
      "outputs": [],
      "source": [
        "# Se importan las bibliotecas necesarias (libraries)\n",
        "import numpy as np\n",
        "import pandas as pd\n",
        "import matplotlib.pyplot as plt\n",
        "import seaborn as sns\n",
        "from sklearn.preprocessing import StandardScaler\n",
        "from sklearn.model_selection import train_test_split\n",
        "from sklearn.linear_model import LinearRegression\n",
        "from sklearn.pipeline import Pipeline\n",
        "from IPython.core.pylabtools import figsize\n",
        "from sklearn.metrics import r2_score"
      ]
    },
    {
      "cell_type": "code",
      "execution_count": null,
      "metadata": {
        "id": "qXqzN6kjQDNc"
      },
      "outputs": [],
      "source": [
        "# Se importan los resultados obtenidos en el modelo implementado\n",
        "# en C++ (modelo de regresión lineal) Entrenamiento \n",
        "costoCpp = pd.read_csv(\"/content/vectorCosto.txt\", header=None)\n",
        "thetaCpp = pd.read_csv(\"/content/vectorTheta.txt\", header=None)\n",
        "y_hatCpp = pd.read_csv(\"/content/Prediccion.txt\", header=None)\n",
        "\n",
        "# en C++ (modelo de regresión lineal) prueba\n",
        "costoCpptest = pd.read_csv(\"/content/vectorCostoTest.txt\", header=None)\n",
        "thetaCpptest = pd.read_csv(\"/content/vectorThetaTest.txt\", header=None)\n",
        "y_hatCpptest = pd.read_csv(\"/content/PrediccionTest.txt\", header=None)\n",
        "\n"
      ]
    },
    {
      "cell_type": "code",
      "execution_count": null,
      "metadata": {
        "colab": {
          "base_uri": "https://localhost:8080/",
          "height": 206
        },
        "id": "1iwyqmDOSl0-",
        "outputId": "7c9fe5ee-4743-4c73-97df-211e8cc341f2"
      },
      "outputs": [
        {
          "output_type": "execute_result",
          "data": {
            "text/plain": [
              "       charges  age  sex     bmi  children  smoker  region\n",
              "0  16884.92400   19    0  27.900         0       0       0\n",
              "1   1725.55230   18    1  33.770         1       1       1\n",
              "2   4449.46200   28    1  33.000         3       1       1\n",
              "3  21984.47061   33    1  22.705         0       1       2\n",
              "4   3866.85520   32    1  28.880         0       1       2"
            ],
            "text/html": [
              "\n",
              "  <div id=\"df-053eea3b-4e0e-4a74-8447-6b4c326f8081\">\n",
              "    <div class=\"colab-df-container\">\n",
              "      <div>\n",
              "<style scoped>\n",
              "    .dataframe tbody tr th:only-of-type {\n",
              "        vertical-align: middle;\n",
              "    }\n",
              "\n",
              "    .dataframe tbody tr th {\n",
              "        vertical-align: top;\n",
              "    }\n",
              "\n",
              "    .dataframe thead th {\n",
              "        text-align: right;\n",
              "    }\n",
              "</style>\n",
              "<table border=\"1\" class=\"dataframe\">\n",
              "  <thead>\n",
              "    <tr style=\"text-align: right;\">\n",
              "      <th></th>\n",
              "      <th>charges</th>\n",
              "      <th>age</th>\n",
              "      <th>sex</th>\n",
              "      <th>bmi</th>\n",
              "      <th>children</th>\n",
              "      <th>smoker</th>\n",
              "      <th>region</th>\n",
              "    </tr>\n",
              "  </thead>\n",
              "  <tbody>\n",
              "    <tr>\n",
              "      <th>0</th>\n",
              "      <td>16884.92400</td>\n",
              "      <td>19</td>\n",
              "      <td>0</td>\n",
              "      <td>27.900</td>\n",
              "      <td>0</td>\n",
              "      <td>0</td>\n",
              "      <td>0</td>\n",
              "    </tr>\n",
              "    <tr>\n",
              "      <th>1</th>\n",
              "      <td>1725.55230</td>\n",
              "      <td>18</td>\n",
              "      <td>1</td>\n",
              "      <td>33.770</td>\n",
              "      <td>1</td>\n",
              "      <td>1</td>\n",
              "      <td>1</td>\n",
              "    </tr>\n",
              "    <tr>\n",
              "      <th>2</th>\n",
              "      <td>4449.46200</td>\n",
              "      <td>28</td>\n",
              "      <td>1</td>\n",
              "      <td>33.000</td>\n",
              "      <td>3</td>\n",
              "      <td>1</td>\n",
              "      <td>1</td>\n",
              "    </tr>\n",
              "    <tr>\n",
              "      <th>3</th>\n",
              "      <td>21984.47061</td>\n",
              "      <td>33</td>\n",
              "      <td>1</td>\n",
              "      <td>22.705</td>\n",
              "      <td>0</td>\n",
              "      <td>1</td>\n",
              "      <td>2</td>\n",
              "    </tr>\n",
              "    <tr>\n",
              "      <th>4</th>\n",
              "      <td>3866.85520</td>\n",
              "      <td>32</td>\n",
              "      <td>1</td>\n",
              "      <td>28.880</td>\n",
              "      <td>0</td>\n",
              "      <td>1</td>\n",
              "      <td>2</td>\n",
              "    </tr>\n",
              "  </tbody>\n",
              "</table>\n",
              "</div>\n",
              "      <button class=\"colab-df-convert\" onclick=\"convertToInteractive('df-053eea3b-4e0e-4a74-8447-6b4c326f8081')\"\n",
              "              title=\"Convert this dataframe to an interactive table.\"\n",
              "              style=\"display:none;\">\n",
              "        \n",
              "  <svg xmlns=\"http://www.w3.org/2000/svg\" height=\"24px\"viewBox=\"0 0 24 24\"\n",
              "       width=\"24px\">\n",
              "    <path d=\"M0 0h24v24H0V0z\" fill=\"none\"/>\n",
              "    <path d=\"M18.56 5.44l.94 2.06.94-2.06 2.06-.94-2.06-.94-.94-2.06-.94 2.06-2.06.94zm-11 1L8.5 8.5l.94-2.06 2.06-.94-2.06-.94L8.5 2.5l-.94 2.06-2.06.94zm10 10l.94 2.06.94-2.06 2.06-.94-2.06-.94-.94-2.06-.94 2.06-2.06.94z\"/><path d=\"M17.41 7.96l-1.37-1.37c-.4-.4-.92-.59-1.43-.59-.52 0-1.04.2-1.43.59L10.3 9.45l-7.72 7.72c-.78.78-.78 2.05 0 2.83L4 21.41c.39.39.9.59 1.41.59.51 0 1.02-.2 1.41-.59l7.78-7.78 2.81-2.81c.8-.78.8-2.07 0-2.86zM5.41 20L4 18.59l7.72-7.72 1.47 1.35L5.41 20z\"/>\n",
              "  </svg>\n",
              "      </button>\n",
              "      \n",
              "  <style>\n",
              "    .colab-df-container {\n",
              "      display:flex;\n",
              "      flex-wrap:wrap;\n",
              "      gap: 12px;\n",
              "    }\n",
              "\n",
              "    .colab-df-convert {\n",
              "      background-color: #E8F0FE;\n",
              "      border: none;\n",
              "      border-radius: 50%;\n",
              "      cursor: pointer;\n",
              "      display: none;\n",
              "      fill: #1967D2;\n",
              "      height: 32px;\n",
              "      padding: 0 0 0 0;\n",
              "      width: 32px;\n",
              "    }\n",
              "\n",
              "    .colab-df-convert:hover {\n",
              "      background-color: #E2EBFA;\n",
              "      box-shadow: 0px 1px 2px rgba(60, 64, 67, 0.3), 0px 1px 3px 1px rgba(60, 64, 67, 0.15);\n",
              "      fill: #174EA6;\n",
              "    }\n",
              "\n",
              "    [theme=dark] .colab-df-convert {\n",
              "      background-color: #3B4455;\n",
              "      fill: #D2E3FC;\n",
              "    }\n",
              "\n",
              "    [theme=dark] .colab-df-convert:hover {\n",
              "      background-color: #434B5C;\n",
              "      box-shadow: 0px 1px 3px 1px rgba(0, 0, 0, 0.15);\n",
              "      filter: drop-shadow(0px 1px 2px rgba(0, 0, 0, 0.3));\n",
              "      fill: #FFFFFF;\n",
              "    }\n",
              "  </style>\n",
              "\n",
              "      <script>\n",
              "        const buttonEl =\n",
              "          document.querySelector('#df-053eea3b-4e0e-4a74-8447-6b4c326f8081 button.colab-df-convert');\n",
              "        buttonEl.style.display =\n",
              "          google.colab.kernel.accessAllowed ? 'block' : 'none';\n",
              "\n",
              "        async function convertToInteractive(key) {\n",
              "          const element = document.querySelector('#df-053eea3b-4e0e-4a74-8447-6b4c326f8081');\n",
              "          const dataTable =\n",
              "            await google.colab.kernel.invokeFunction('convertToInteractive',\n",
              "                                                     [key], {});\n",
              "          if (!dataTable) return;\n",
              "\n",
              "          const docLinkHtml = 'Like what you see? Visit the ' +\n",
              "            '<a target=\"_blank\" href=https://colab.research.google.com/notebooks/data_table.ipynb>data table notebook</a>'\n",
              "            + ' to learn more about interactive tables.';\n",
              "          element.innerHTML = '';\n",
              "          dataTable['output_type'] = 'display_data';\n",
              "          await google.colab.output.renderOutput(dataTable, element);\n",
              "          const docLink = document.createElement('div');\n",
              "          docLink.innerHTML = docLinkHtml;\n",
              "          element.appendChild(docLink);\n",
              "        }\n",
              "      </script>\n",
              "    </div>\n",
              "  </div>\n",
              "  "
            ]
          },
          "metadata": {},
          "execution_count": 29
        }
      ],
      "source": [
        "# Se importa a un DataFrame el dataset insuranceHPC\n",
        "df = pd.read_csv(\"/content/insuranceHPC.csv\")\n",
        "df.head()"
      ]
    },
    {
      "cell_type": "markdown",
      "metadata": {
        "id": "V7drR5atjJxR"
      },
      "source": [
        "##Análisis Exploratorio de los Datos del Dataset entregado (Información, Resumen Estadístico, Correlación, Distribución, etc.)"
      ]
    },
    {
      "cell_type": "code",
      "execution_count": null,
      "metadata": {
        "colab": {
          "base_uri": "https://localhost:8080/"
        },
        "id": "FnxdIC92USDn",
        "outputId": "e0ea9f46-bdc4-4ab4-869f-fdd8c0a6275a"
      },
      "outputs": [
        {
          "output_type": "stream",
          "name": "stdout",
          "text": [
            "<class 'pandas.core.frame.DataFrame'>\n",
            "RangeIndex: 1338 entries, 0 to 1337\n",
            "Data columns (total 7 columns):\n",
            " #   Column    Non-Null Count  Dtype  \n",
            "---  ------    --------------  -----  \n",
            " 0   charges   1338 non-null   float64\n",
            " 1   age       1338 non-null   int64  \n",
            " 2   sex       1338 non-null   int64  \n",
            " 3   bmi       1338 non-null   float64\n",
            " 4   children  1338 non-null   int64  \n",
            " 5   smoker    1338 non-null   int64  \n",
            " 6   region    1338 non-null   int64  \n",
            "dtypes: float64(2), int64(5)\n",
            "memory usage: 73.3 KB\n"
          ]
        }
      ],
      "source": [
        "# A continuación, se realiza el EDA (Análisis exploratorio de los datos)\n",
        "# 1.- Información general del DataFrame\n",
        "df.info()"
      ]
    },
    {
      "cell_type": "code",
      "execution_count": null,
      "metadata": {
        "colab": {
          "base_uri": "https://localhost:8080/",
          "height": 269
        },
        "id": "GkXTzpwQUqn1",
        "outputId": "358f2684-70e1-4db4-f455-e5d0e44398c0"
      },
      "outputs": [
        {
          "output_type": "execute_result",
          "data": {
            "text/plain": [
              "           count          mean           std        min         25%       50%  \\\n",
              "charges   1338.0  13270.422265  12110.011237  1121.8739  4740.28715  9382.033   \n",
              "age       1338.0     39.207025     14.049960    18.0000    27.00000    39.000   \n",
              "sex       1338.0      0.505232      0.500160     0.0000     0.00000     1.000   \n",
              "bmi       1338.0     30.663397      6.098187    15.9600    26.29625    30.400   \n",
              "children  1338.0      1.094918      1.205493     0.0000     0.00000     1.000   \n",
              "smoker    1338.0      0.795217      0.403694     0.0000     1.00000     1.000   \n",
              "region    1338.0      1.484305      1.104885     0.0000     1.00000     1.000   \n",
              "\n",
              "                   75%          max  \n",
              "charges   16639.912515  63770.42801  \n",
              "age          51.000000     64.00000  \n",
              "sex           1.000000      1.00000  \n",
              "bmi          34.693750     53.13000  \n",
              "children      2.000000      5.00000  \n",
              "smoker        1.000000      1.00000  \n",
              "region        2.000000      3.00000  "
            ],
            "text/html": [
              "\n",
              "  <div id=\"df-21fbf05d-d9c6-4e63-806d-639aae268dd3\">\n",
              "    <div class=\"colab-df-container\">\n",
              "      <div>\n",
              "<style scoped>\n",
              "    .dataframe tbody tr th:only-of-type {\n",
              "        vertical-align: middle;\n",
              "    }\n",
              "\n",
              "    .dataframe tbody tr th {\n",
              "        vertical-align: top;\n",
              "    }\n",
              "\n",
              "    .dataframe thead th {\n",
              "        text-align: right;\n",
              "    }\n",
              "</style>\n",
              "<table border=\"1\" class=\"dataframe\">\n",
              "  <thead>\n",
              "    <tr style=\"text-align: right;\">\n",
              "      <th></th>\n",
              "      <th>count</th>\n",
              "      <th>mean</th>\n",
              "      <th>std</th>\n",
              "      <th>min</th>\n",
              "      <th>25%</th>\n",
              "      <th>50%</th>\n",
              "      <th>75%</th>\n",
              "      <th>max</th>\n",
              "    </tr>\n",
              "  </thead>\n",
              "  <tbody>\n",
              "    <tr>\n",
              "      <th>charges</th>\n",
              "      <td>1338.0</td>\n",
              "      <td>13270.422265</td>\n",
              "      <td>12110.011237</td>\n",
              "      <td>1121.8739</td>\n",
              "      <td>4740.28715</td>\n",
              "      <td>9382.033</td>\n",
              "      <td>16639.912515</td>\n",
              "      <td>63770.42801</td>\n",
              "    </tr>\n",
              "    <tr>\n",
              "      <th>age</th>\n",
              "      <td>1338.0</td>\n",
              "      <td>39.207025</td>\n",
              "      <td>14.049960</td>\n",
              "      <td>18.0000</td>\n",
              "      <td>27.00000</td>\n",
              "      <td>39.000</td>\n",
              "      <td>51.000000</td>\n",
              "      <td>64.00000</td>\n",
              "    </tr>\n",
              "    <tr>\n",
              "      <th>sex</th>\n",
              "      <td>1338.0</td>\n",
              "      <td>0.505232</td>\n",
              "      <td>0.500160</td>\n",
              "      <td>0.0000</td>\n",
              "      <td>0.00000</td>\n",
              "      <td>1.000</td>\n",
              "      <td>1.000000</td>\n",
              "      <td>1.00000</td>\n",
              "    </tr>\n",
              "    <tr>\n",
              "      <th>bmi</th>\n",
              "      <td>1338.0</td>\n",
              "      <td>30.663397</td>\n",
              "      <td>6.098187</td>\n",
              "      <td>15.9600</td>\n",
              "      <td>26.29625</td>\n",
              "      <td>30.400</td>\n",
              "      <td>34.693750</td>\n",
              "      <td>53.13000</td>\n",
              "    </tr>\n",
              "    <tr>\n",
              "      <th>children</th>\n",
              "      <td>1338.0</td>\n",
              "      <td>1.094918</td>\n",
              "      <td>1.205493</td>\n",
              "      <td>0.0000</td>\n",
              "      <td>0.00000</td>\n",
              "      <td>1.000</td>\n",
              "      <td>2.000000</td>\n",
              "      <td>5.00000</td>\n",
              "    </tr>\n",
              "    <tr>\n",
              "      <th>smoker</th>\n",
              "      <td>1338.0</td>\n",
              "      <td>0.795217</td>\n",
              "      <td>0.403694</td>\n",
              "      <td>0.0000</td>\n",
              "      <td>1.00000</td>\n",
              "      <td>1.000</td>\n",
              "      <td>1.000000</td>\n",
              "      <td>1.00000</td>\n",
              "    </tr>\n",
              "    <tr>\n",
              "      <th>region</th>\n",
              "      <td>1338.0</td>\n",
              "      <td>1.484305</td>\n",
              "      <td>1.104885</td>\n",
              "      <td>0.0000</td>\n",
              "      <td>1.00000</td>\n",
              "      <td>1.000</td>\n",
              "      <td>2.000000</td>\n",
              "      <td>3.00000</td>\n",
              "    </tr>\n",
              "  </tbody>\n",
              "</table>\n",
              "</div>\n",
              "      <button class=\"colab-df-convert\" onclick=\"convertToInteractive('df-21fbf05d-d9c6-4e63-806d-639aae268dd3')\"\n",
              "              title=\"Convert this dataframe to an interactive table.\"\n",
              "              style=\"display:none;\">\n",
              "        \n",
              "  <svg xmlns=\"http://www.w3.org/2000/svg\" height=\"24px\"viewBox=\"0 0 24 24\"\n",
              "       width=\"24px\">\n",
              "    <path d=\"M0 0h24v24H0V0z\" fill=\"none\"/>\n",
              "    <path d=\"M18.56 5.44l.94 2.06.94-2.06 2.06-.94-2.06-.94-.94-2.06-.94 2.06-2.06.94zm-11 1L8.5 8.5l.94-2.06 2.06-.94-2.06-.94L8.5 2.5l-.94 2.06-2.06.94zm10 10l.94 2.06.94-2.06 2.06-.94-2.06-.94-.94-2.06-.94 2.06-2.06.94z\"/><path d=\"M17.41 7.96l-1.37-1.37c-.4-.4-.92-.59-1.43-.59-.52 0-1.04.2-1.43.59L10.3 9.45l-7.72 7.72c-.78.78-.78 2.05 0 2.83L4 21.41c.39.39.9.59 1.41.59.51 0 1.02-.2 1.41-.59l7.78-7.78 2.81-2.81c.8-.78.8-2.07 0-2.86zM5.41 20L4 18.59l7.72-7.72 1.47 1.35L5.41 20z\"/>\n",
              "  </svg>\n",
              "      </button>\n",
              "      \n",
              "  <style>\n",
              "    .colab-df-container {\n",
              "      display:flex;\n",
              "      flex-wrap:wrap;\n",
              "      gap: 12px;\n",
              "    }\n",
              "\n",
              "    .colab-df-convert {\n",
              "      background-color: #E8F0FE;\n",
              "      border: none;\n",
              "      border-radius: 50%;\n",
              "      cursor: pointer;\n",
              "      display: none;\n",
              "      fill: #1967D2;\n",
              "      height: 32px;\n",
              "      padding: 0 0 0 0;\n",
              "      width: 32px;\n",
              "    }\n",
              "\n",
              "    .colab-df-convert:hover {\n",
              "      background-color: #E2EBFA;\n",
              "      box-shadow: 0px 1px 2px rgba(60, 64, 67, 0.3), 0px 1px 3px 1px rgba(60, 64, 67, 0.15);\n",
              "      fill: #174EA6;\n",
              "    }\n",
              "\n",
              "    [theme=dark] .colab-df-convert {\n",
              "      background-color: #3B4455;\n",
              "      fill: #D2E3FC;\n",
              "    }\n",
              "\n",
              "    [theme=dark] .colab-df-convert:hover {\n",
              "      background-color: #434B5C;\n",
              "      box-shadow: 0px 1px 3px 1px rgba(0, 0, 0, 0.15);\n",
              "      filter: drop-shadow(0px 1px 2px rgba(0, 0, 0, 0.3));\n",
              "      fill: #FFFFFF;\n",
              "    }\n",
              "  </style>\n",
              "\n",
              "      <script>\n",
              "        const buttonEl =\n",
              "          document.querySelector('#df-21fbf05d-d9c6-4e63-806d-639aae268dd3 button.colab-df-convert');\n",
              "        buttonEl.style.display =\n",
              "          google.colab.kernel.accessAllowed ? 'block' : 'none';\n",
              "\n",
              "        async function convertToInteractive(key) {\n",
              "          const element = document.querySelector('#df-21fbf05d-d9c6-4e63-806d-639aae268dd3');\n",
              "          const dataTable =\n",
              "            await google.colab.kernel.invokeFunction('convertToInteractive',\n",
              "                                                     [key], {});\n",
              "          if (!dataTable) return;\n",
              "\n",
              "          const docLinkHtml = 'Like what you see? Visit the ' +\n",
              "            '<a target=\"_blank\" href=https://colab.research.google.com/notebooks/data_table.ipynb>data table notebook</a>'\n",
              "            + ' to learn more about interactive tables.';\n",
              "          element.innerHTML = '';\n",
              "          dataTable['output_type'] = 'display_data';\n",
              "          await google.colab.output.renderOutput(dataTable, element);\n",
              "          const docLink = document.createElement('div');\n",
              "          docLink.innerHTML = docLinkHtml;\n",
              "          element.appendChild(docLink);\n",
              "        }\n",
              "      </script>\n",
              "    </div>\n",
              "  </div>\n",
              "  "
            ]
          },
          "metadata": {},
          "execution_count": 31
        }
      ],
      "source": [
        "# 2.- Se observa un resumen estadístico de los datos\n",
        "df.describe().T"
      ]
    },
    {
      "cell_type": "code",
      "execution_count": null,
      "metadata": {
        "colab": {
          "base_uri": "https://localhost:8080/",
          "height": 390
        },
        "id": "eNOxOFCPWbdD",
        "outputId": "7a28a5fe-514e-4cbe-9f8a-95695651c71d"
      },
      "outputs": [
        {
          "output_type": "display_data",
          "data": {
            "text/plain": [
              "<Figure size 864x432 with 2 Axes>"
            ],
            "image/png": "[encoded data removed]"
          },
          "metadata": {
            "needs_background": "light"
          }
        }
      ],
      "source": [
        "# 3.- A continuación, se presenta la matriz de correlación: Representa\n",
        "# el grado de afinidad entre las variables. Si el Factor es cercano a\n",
        "# 1 o -1, representa una alta afinidad o relación (directa o indirectamente\n",
        "# proporcional)\n",
        "mathCorr = df.corr()\n",
        "plt.figure(figsize=(12, 6))\n",
        "sns.heatmap(mathCorr, annot=True, cmap='Spectral')\n",
        "plt.title('Mapa de correlación entre las variables del Vino Rojo')\n",
        "plt.show()"
      ]
    },
    {
      "cell_type": "code",
      "execution_count": null,
      "metadata": {
        "id": "XrqlYTM1ZTLd"
      },
      "outputs": [],
      "source": [
        "# Dada esa matriz de correlación, se presume que no hay una relación inversamente\n",
        "# proporcional entre la variable dependiente e independientes, por lo tanto,\n",
        "# se evidencia que presenta una relación significativamente baja."
      ]
    },
    {
      "cell_type": "code",
      "execution_count": null,
      "metadata": {
        "colab": {
          "base_uri": "https://localhost:8080/",
          "height": 845
        },
        "id": "MgYlyYm3Z2y4",
        "outputId": "01509946-fb2a-4e3c-a78b-edf71a253dc5"
      },
      "outputs": [
        {
          "output_type": "display_data",
          "data": {
            "text/plain": [
              "<Figure size 864x432 with 2 Axes>"
            ],
            "image/png": "[encoded data removed]"
          },
          "metadata": {
            "needs_background": "light"
          }
        },
        {
          "output_type": "display_data",
          "data": {
            "text/plain": [
              "<Figure size 864x432 with 2 Axes>"
            ],
            "image/png": "[encoded data removed]"
          },
          "metadata": {
            "needs_background": "light"
          }
        }
      ],
      "source": [
        "# 4.- A continuación, se presenta la distribución de las variables que tienen mas relación significativa\n",
        "# (se espera que la distribución de todas las varibales sea Normal-Gaussiana)\n",
        "fig, axes = plt.subplots(1, 2, figsize=(12, 6))\n",
        "plt.suptitle('Distribución de las variables de insurance')\n",
        "sns.histplot(df['charges'], kde=True, color='r', ax=axes[0])\n",
        "sns.histplot(df['region'], kde=True, color='b', ax=axes[1])\n",
        "axes[0].grid()\n",
        "axes[0].set_title(\"Distribución 'charges'\")\n",
        "axes[1].grid()\n",
        "axes[1].set_title(\"Distribución 'region'\")\n",
        "plt.show()\n",
        "fig, axes = plt.subplots(1, 2, figsize=(12, 6))\n",
        "plt.suptitle('Distribución de las variables de insurance')\n",
        "sns.histplot(df['children'], kde=True, color='r', ax=axes[0])\n",
        "sns.histplot(df['bmi'], kde=True, color='b', ax=axes[1])\n",
        "axes[0].grid()\n",
        "axes[0].set_title(\"Distribución 'children'\")\n",
        "axes[1].grid()\n",
        "axes[1].set_title(\"Distribución 'bmi'\")\n",
        "plt.show()"
      ]
    },
    {
      "cell_type": "code",
      "execution_count": null,
      "metadata": {
        "id": "ddb52a6CdBYx"
      },
      "outputs": [],
      "source": [
        "# Se puede apreciar que las variables presentan una distribución Normal"
      ]
    },
    {
      "cell_type": "markdown",
      "source": [
        "##Vectores de predicciones del modelo LR Sklearn (y_train_hat_sk, y_test_hat_sk)"
      ],
      "metadata": {
        "id": "FIH1qDVhXCVk"
      }
    },
    {
      "cell_type": "code",
      "execution_count": null,
      "metadata": {
        "id": "40rf1QgBd7GS"
      },
      "outputs": [],
      "source": [
        "# Se separa en 2 grupos: variables dependientes e independientes"
      ]
    },
    {
      "cell_type": "code",
      "execution_count": null,
      "metadata": {
        "id": "A07bq7gyeCDc"
      },
      "outputs": [],
      "source": [
        "X = df.drop(['charges'], axis=1)\n",
        "y = df['charges']"
      ]
    },
    {
      "cell_type": "markdown",
      "metadata": {
        "id": "jZI_R5dUdgaN"
      },
      "source": [
        "\n",
        "\n",
        "---\n",
        "A continuación, se dividen los datos en 2 grupos: prueba y entrenamiento (test, train)\n"
      ]
    },
    {
      "cell_type": "code",
      "execution_count": null,
      "metadata": {
        "id": "gNp6H0YRdngF"
      },
      "outputs": [],
      "source": [
        "X_train, X_test, y_train, y_test = train_test_split(X, y, test_size=0.2, shuffle=False)"
      ]
    },
    {
      "cell_type": "code",
      "execution_count": null,
      "metadata": {
        "id": "lsQJ9MD1ejp1"
      },
      "outputs": [],
      "source": [
        "# Se selecciona el modelo de Machine Learning: En un Pipeline\n",
        "pipe = Pipeline([('scaler', StandardScaler()), ('LR', LinearRegression())])"
      ]
    },
    {
      "cell_type": "code",
      "execution_count": null,
      "metadata": {
        "colab": {
          "base_uri": "https://localhost:8080/"
        },
        "id": "G9q2PP8wfDH4",
        "outputId": "c7631028-52af-4dae-fa90-7381cfb15211"
      },
      "outputs": [
        {
          "output_type": "execute_result",
          "data": {
            "text/plain": [
              "Pipeline(steps=[('scaler', StandardScaler()), ('LR', LinearRegression())])"
            ]
          },
          "metadata": {},
          "execution_count": 40
        }
      ],
      "source": [
        "# Se entrenan los datos\n",
        "pipe.fit(X_train, y_train)"
      ]
    },
    {
      "cell_type": "code",
      "execution_count": null,
      "metadata": {
        "id": "Gv683-gAfdC-"
      },
      "outputs": [],
      "source": [
        "# Se toman los valores de predicción de entrenamiento\n",
        "y_train_hatSk = pipe.predict(X_train)\n",
        "# Se toman los valores de predicción de test\n",
        "y_test_hatSk = pipe.predict(X_test)"
      ]
    },
    {
      "cell_type": "markdown",
      "source": [
        "##Vector de coeficientes y punto de corte del Modelo RL en Sklearn"
      ],
      "metadata": {
        "id": "khAChjWlXpfn"
      }
    },
    {
      "cell_type": "code",
      "source": [
        "reg = LinearRegression().fit(X_train, y_train)\n"
      ],
      "metadata": {
        "id": "OlyBRc_hJmIn"
      },
      "execution_count": null,
      "outputs": []
    },
    {
      "cell_type": "code",
      "source": [
        "reg.coef_"
      ],
      "metadata": {
        "colab": {
          "base_uri": "https://localhost:8080/"
        },
        "id": "YRp3kFBqbeAL",
        "outputId": "9a1d29fc-4219-46cd-d374-8858a1b8f683"
      },
      "execution_count": null,
      "outputs": [
        {
          "output_type": "execute_result",
          "data": {
            "text/plain": [
              "array([   259.91583957,   -246.70965668,    334.50820583,    441.81651302,\n",
              "       -23631.78924739,    437.18170076])"
            ]
          },
          "metadata": {},
          "execution_count": 43
        }
      ]
    },
    {
      "cell_type": "code",
      "source": [
        "reg.intercept_"
      ],
      "metadata": {
        "id": "ZgX0P8QYbkSF",
        "outputId": "a7b79e85-930b-4cbc-b231-50076a584f39",
        "colab": {
          "base_uri": "https://localhost:8080/"
        }
      },
      "execution_count": null,
      "outputs": [
        {
          "output_type": "execute_result",
          "data": {
            "text/plain": [
              "10522.093373556294"
            ]
          },
          "metadata": {},
          "execution_count": 44
        }
      ]
    },
    {
      "cell_type": "markdown",
      "source": [
        "##Comparación del promedio de los datos y la normalización entre Sklearn y C++"
      ],
      "metadata": {
        "id": "PVuQSRoT5Fup"
      }
    },
    {
      "cell_type": "markdown",
      "source": [
        "###Promedio"
      ],
      "metadata": {
        "id": "6vnqsZ2ZEo6z"
      }
    },
    {
      "cell_type": "code",
      "source": [
        "df.mean()"
      ],
      "metadata": {
        "colab": {
          "base_uri": "https://localhost:8080/"
        },
        "id": "cjA4scIV-m5Q",
        "outputId": "254df17e-28c5-4553-bd5d-d21cfd1d3e88"
      },
      "execution_count": null,
      "outputs": [
        {
          "output_type": "execute_result",
          "data": {
            "text/plain": [
              "charges     13270.422265\n",
              "age            39.207025\n",
              "sex             0.505232\n",
              "bmi            30.663397\n",
              "children        1.094918\n",
              "smoker          0.795217\n",
              "region          1.484305\n",
              "dtype: float64"
            ]
          },
          "metadata": {},
          "execution_count": 45
        }
      ]
    },
    {
      "cell_type": "markdown",
      "source": [
        "![image.png](data:image/png;base64,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)"
      ],
      "metadata": {
        "id": "gPHHIgCm7pcU"
      }
    },
    {
      "cell_type": "markdown",
      "source": [
        "###Desviación Standart"
      ],
      "metadata": {
        "id": "fBJeLaa8ExYg"
      }
    },
    {
      "cell_type": "code",
      "source": [
        "df.describe()"
      ],
      "metadata": {
        "id": "PQ6cmXrx-l9B",
        "colab": {
          "base_uri": "https://localhost:8080/",
          "height": 300
        },
        "outputId": "1ef28403-2f81-4130-8d3b-4e6239dbcf86"
      },
      "execution_count": null,
      "outputs": [
        {
          "output_type": "execute_result",
          "data": {
            "text/plain": [
              "            charges          age          sex          bmi     children  \\\n",
              "count   1338.000000  1338.000000  1338.000000  1338.000000  1338.000000   \n",
              "mean   13270.422265    39.207025     0.505232    30.663397     1.094918   \n",
              "std    12110.011237    14.049960     0.500160     6.098187     1.205493   \n",
              "min     1121.873900    18.000000     0.000000    15.960000     0.000000   \n",
              "25%     4740.287150    27.000000     0.000000    26.296250     0.000000   \n",
              "50%     9382.033000    39.000000     1.000000    30.400000     1.000000   \n",
              "75%    16639.912515    51.000000     1.000000    34.693750     2.000000   \n",
              "max    63770.428010    64.000000     1.000000    53.130000     5.000000   \n",
              "\n",
              "            smoker       region  \n",
              "count  1338.000000  1338.000000  \n",
              "mean      0.795217     1.484305  \n",
              "std       0.403694     1.104885  \n",
              "min       0.000000     0.000000  \n",
              "25%       1.000000     1.000000  \n",
              "50%       1.000000     1.000000  \n",
              "75%       1.000000     2.000000  \n",
              "max       1.000000     3.000000  "
            ],
            "text/html": [
              "\n",
              "  <div id=\"df-34f878ce-a292-4f6c-ac98-21f63320ceaf\">\n",
              "    <div class=\"colab-df-container\">\n",
              "      <div>\n",
              "<style scoped>\n",
              "    .dataframe tbody tr th:only-of-type {\n",
              "        vertical-align: middle;\n",
              "    }\n",
              "\n",
              "    .dataframe tbody tr th {\n",
              "        vertical-align: top;\n",
              "    }\n",
              "\n",
              "    .dataframe thead th {\n",
              "        text-align: right;\n",
              "    }\n",
              "</style>\n",
              "<table border=\"1\" class=\"dataframe\">\n",
              "  <thead>\n",
              "    <tr style=\"text-align: right;\">\n",
              "      <th></th>\n",
              "      <th>charges</th>\n",
              "      <th>age</th>\n",
              "      <th>sex</th>\n",
              "      <th>bmi</th>\n",
              "      <th>children</th>\n",
              "      <th>smoker</th>\n",
              "      <th>region</th>\n",
              "    </tr>\n",
              "  </thead>\n",
              "  <tbody>\n",
              "    <tr>\n",
              "      <th>count</th>\n",
              "      <td>1338.000000</td>\n",
              "      <td>1338.000000</td>\n",
              "      <td>1338.000000</td>\n",
              "      <td>1338.000000</td>\n",
              "      <td>1338.000000</td>\n",
              "      <td>1338.000000</td>\n",
              "      <td>1338.000000</td>\n",
              "    </tr>\n",
              "    <tr>\n",
              "      <th>mean</th>\n",
              "      <td>13270.422265</td>\n",
              "      <td>39.207025</td>\n",
              "      <td>0.505232</td>\n",
              "      <td>30.663397</td>\n",
              "      <td>1.094918</td>\n",
              "      <td>0.795217</td>\n",
              "      <td>1.484305</td>\n",
              "    </tr>\n",
              "    <tr>\n",
              "      <th>std</th>\n",
              "      <td>12110.011237</td>\n",
              "      <td>14.049960</td>\n",
              "      <td>0.500160</td>\n",
              "      <td>6.098187</td>\n",
              "      <td>1.205493</td>\n",
              "      <td>0.403694</td>\n",
              "      <td>1.104885</td>\n",
              "    </tr>\n",
              "    <tr>\n",
              "      <th>min</th>\n",
              "      <td>1121.873900</td>\n",
              "      <td>18.000000</td>\n",
              "      <td>0.000000</td>\n",
              "      <td>15.960000</td>\n",
              "      <td>0.000000</td>\n",
              "      <td>0.000000</td>\n",
              "      <td>0.000000</td>\n",
              "    </tr>\n",
              "    <tr>\n",
              "      <th>25%</th>\n",
              "      <td>4740.287150</td>\n",
              "      <td>27.000000</td>\n",
              "      <td>0.000000</td>\n",
              "      <td>26.296250</td>\n",
              "      <td>0.000000</td>\n",
              "      <td>1.000000</td>\n",
              "      <td>1.000000</td>\n",
              "    </tr>\n",
              "    <tr>\n",
              "      <th>50%</th>\n",
              "      <td>9382.033000</td>\n",
              "      <td>39.000000</td>\n",
              "      <td>1.000000</td>\n",
              "      <td>30.400000</td>\n",
              "      <td>1.000000</td>\n",
              "      <td>1.000000</td>\n",
              "      <td>1.000000</td>\n",
              "    </tr>\n",
              "    <tr>\n",
              "      <th>75%</th>\n",
              "      <td>16639.912515</td>\n",
              "      <td>51.000000</td>\n",
              "      <td>1.000000</td>\n",
              "      <td>34.693750</td>\n",
              "      <td>2.000000</td>\n",
              "      <td>1.000000</td>\n",
              "      <td>2.000000</td>\n",
              "    </tr>\n",
              "    <tr>\n",
              "      <th>max</th>\n",
              "      <td>63770.428010</td>\n",
              "      <td>64.000000</td>\n",
              "      <td>1.000000</td>\n",
              "      <td>53.130000</td>\n",
              "      <td>5.000000</td>\n",
              "      <td>1.000000</td>\n",
              "      <td>3.000000</td>\n",
              "    </tr>\n",
              "  </tbody>\n",
              "</table>\n",
              "</div>\n",
              "      <button class=\"colab-df-convert\" onclick=\"convertToInteractive('df-34f878ce-a292-4f6c-ac98-21f63320ceaf')\"\n",
              "              title=\"Convert this dataframe to an interactive table.\"\n",
              "              style=\"display:none;\">\n",
              "        \n",
              "  <svg xmlns=\"http://www.w3.org/2000/svg\" height=\"24px\"viewBox=\"0 0 24 24\"\n",
              "       width=\"24px\">\n",
              "    <path d=\"M0 0h24v24H0V0z\" fill=\"none\"/>\n",
              "    <path d=\"M18.56 5.44l.94 2.06.94-2.06 2.06-.94-2.06-.94-.94-2.06-.94 2.06-2.06.94zm-11 1L8.5 8.5l.94-2.06 2.06-.94-2.06-.94L8.5 2.5l-.94 2.06-2.06.94zm10 10l.94 2.06.94-2.06 2.06-.94-2.06-.94-.94-2.06-.94 2.06-2.06.94z\"/><path d=\"M17.41 7.96l-1.37-1.37c-.4-.4-.92-.59-1.43-.59-.52 0-1.04.2-1.43.59L10.3 9.45l-7.72 7.72c-.78.78-.78 2.05 0 2.83L4 21.41c.39.39.9.59 1.41.59.51 0 1.02-.2 1.41-.59l7.78-7.78 2.81-2.81c.8-.78.8-2.07 0-2.86zM5.41 20L4 18.59l7.72-7.72 1.47 1.35L5.41 20z\"/>\n",
              "  </svg>\n",
              "      </button>\n",
              "      \n",
              "  <style>\n",
              "    .colab-df-container {\n",
              "      display:flex;\n",
              "      flex-wrap:wrap;\n",
              "      gap: 12px;\n",
              "    }\n",
              "\n",
              "    .colab-df-convert {\n",
              "      background-color: #E8F0FE;\n",
              "      border: none;\n",
              "      border-radius: 50%;\n",
              "      cursor: pointer;\n",
              "      display: none;\n",
              "      fill: #1967D2;\n",
              "      height: 32px;\n",
              "      padding: 0 0 0 0;\n",
              "      width: 32px;\n",
              "    }\n",
              "\n",
              "    .colab-df-convert:hover {\n",
              "      background-color: #E2EBFA;\n",
              "      box-shadow: 0px 1px 2px rgba(60, 64, 67, 0.3), 0px 1px 3px 1px rgba(60, 64, 67, 0.15);\n",
              "      fill: #174EA6;\n",
              "    }\n",
              "\n",
              "    [theme=dark] .colab-df-convert {\n",
              "      background-color: #3B4455;\n",
              "      fill: #D2E3FC;\n",
              "    }\n",
              "\n",
              "    [theme=dark] .colab-df-convert:hover {\n",
              "      background-color: #434B5C;\n",
              "      box-shadow: 0px 1px 3px 1px rgba(0, 0, 0, 0.15);\n",
              "      filter: drop-shadow(0px 1px 2px rgba(0, 0, 0, 0.3));\n",
              "      fill: #FFFFFF;\n",
              "    }\n",
              "  </style>\n",
              "\n",
              "      <script>\n",
              "        const buttonEl =\n",
              "          document.querySelector('#df-34f878ce-a292-4f6c-ac98-21f63320ceaf button.colab-df-convert');\n",
              "        buttonEl.style.display =\n",
              "          google.colab.kernel.accessAllowed ? 'block' : 'none';\n",
              "\n",
              "        async function convertToInteractive(key) {\n",
              "          const element = document.querySelector('#df-34f878ce-a292-4f6c-ac98-21f63320ceaf');\n",
              "          const dataTable =\n",
              "            await google.colab.kernel.invokeFunction('convertToInteractive',\n",
              "                                                     [key], {});\n",
              "          if (!dataTable) return;\n",
              "\n",
              "          const docLinkHtml = 'Like what you see? Visit the ' +\n",
              "            '<a target=\"_blank\" href=https://colab.research.google.com/notebooks/data_table.ipynb>data table notebook</a>'\n",
              "            + ' to learn more about interactive tables.';\n",
              "          element.innerHTML = '';\n",
              "          dataTable['output_type'] = 'display_data';\n",
              "          await google.colab.output.renderOutput(dataTable, element);\n",
              "          const docLink = document.createElement('div');\n",
              "          docLink.innerHTML = docLinkHtml;\n",
              "          element.appendChild(docLink);\n",
              "        }\n",
              "      </script>\n",
              "    </div>\n",
              "  </div>\n",
              "  "
            ]
          },
          "metadata": {},
          "execution_count": 46
        }
      ]
    },
    {
      "cell_type": "markdown",
      "source": [
        "###Normalización (Z-Score)\n",
        "\n",
        "La fórmula es: (X-mean) / std se calcula para cada atributo / columna por separado.\n",
        "\n",
        "Los datos se restan de su atributo medio por período (por columna) y se aplica su varianza. El resultado es que para cada atributo / columna todos los datos se agrupan alrededor de 0 con una varianza de 1.\n",
        "\n",
        "Usando la función sklearn.preprocessing.scale (), puede normalizar directamente los datos dados."
      ],
      "metadata": {
        "id": "O5EM8AGIE7D0"
      }
    },
    {
      "cell_type": "code",
      "source": [
        "from sklearn import preprocessing"
      ],
      "metadata": {
        "id": "qXPpE31GFB9I"
      },
      "execution_count": null,
      "outputs": []
    },
    {
      "cell_type": "code",
      "source": [
        "X_scaled = preprocessing.scale(df)"
      ],
      "metadata": {
        "id": "E8PfeuwJFEef"
      },
      "execution_count": null,
      "outputs": []
    },
    {
      "cell_type": "code",
      "source": [
        "print(X_scaled[1334])\n",
        "print(X_scaled[1335])\n",
        "print(X_scaled[1336])\n",
        "print(X_scaled[1337])"
      ],
      "metadata": {
        "colab": {
          "base_uri": "https://localhost:8080/"
        },
        "id": "2TVXT6lXFMUt",
        "outputId": "124aa564-d419-4888-d900-3ef40b050be8"
      },
      "execution_count": null,
      "outputs": [
        {
          "output_type": "stream",
          "name": "stdout",
          "text": [
            "[-0.91400233 -1.50996545 -1.0105187   0.20613881 -0.90861367  0.5074631\n",
            "  1.37232554]\n",
            "[-0.96159623 -1.50996545 -1.0105187   1.0148781  -0.90861367  0.5074631\n",
            " -0.43849455]\n",
            "[-0.93036151 -1.29636188 -1.0105187  -0.79781341 -0.90861367  0.5074631\n",
            " -1.34390459]\n",
            "[ 1.31105347  1.55168573 -1.0105187  -0.26138796 -0.90861367 -1.97058663\n",
            "  0.46691549]\n"
          ]
        }
      ]
    },
    {
      "cell_type": "markdown",
      "source": [
        "![image.png](data:image/png;base64,iVBORw0KGgoAAAANSUhEUgAAAvIAAABMCAYAAAAPxFNgAAAABHNCSVQICAgIfAhkiAAAIABJREFUeF7tnQlcFFe2xr9eAKUBERRFVFRQJ0YjBuO4JKMxmEQnjolBGKOOIYk4uCLGuGQSlwEXHGXMJNEYjfsW1ziSKGogI88VlFZBEtSIArK4IyoI3a96ARrorjoNRdPg7V9486y+de45/++ce29X3eqW+Nh7q8FejAAjwAgwAowAI8AIMAKMACNQrwhI65W3zFlGgBFgBBgBRoARYAQYAUaAEdASYAt5lgiMACPACDACjAAjwAgwAoxAPSRg9Qt5O++hmHdWiQNLekJeHcCyThh3/BLOFaQZ/F1EVKCi3JqkCbqFLMaGlEScvH0W0bFLMPKlJpAY9qfoiD8vXY896edx6tYZ/PdoJEb3bWryk5Bdl1FYcTkVZ+JD0F5WHcet75waa0HhrA+bty+x7Bggrjd6mRG76QySwKmHP6bv3IcfMy/gdB6Xz7FRCOrfvGI+k/uSwN57AEYt/RLfnY3HL5nfwd/doHpEsUP02XTQdfMOOXYB9yjjD6WvRp54bf5KbE9Lwum7ShxJXIeZoztDUSYXgbNNL3ySmlppTNWNrwnJc+BjUzWWZ6u+uPjFmHdInMXSS45Wb05C+MFDOJqbwo0Jp/BDTCTG9GtacR6sKm29OcI7pwhGQeBD0qu8I15/BOuUaEcwLgs3oIxRFJco46HejmnOBE3LfBGY47TtKG0A0/5QAjfeplprY+OmxD0qc+0Cv5AQjJvoh3b2EuQcrqZ9qT0cHEpwMfJDLNh5C7oHAlR4mPFYb1CKlqMj8cWirkhZNh9hpwCfiTMRtjsSBX1DsD9DxenjjP5R32He61exbloQYjOd0HPip5i0ewWevhyEHVdKKjgn9x6Bxfsmo5OqUN9fNX23ktPE0YLAmYtXuC+x7JTDrT960WIXTBuZJ4aET4Jv9vf4Jvg8cmXtMHBGGCZutUVuj0mIztVUCbUvO7QfswjLw7sic9dO7P18C9IzspFxp/TRG5HskHwWjNzCDaixC7hFGn8ofTWG7/w1WBSQhfXTP8TnlyXoEDANn3y5GvKbgxFx9BFXgITcKE7G5sBA/GRX/mFN4vIyJq6ZAPefj+NaccV4nrn60oQvxrxD4SyaXioUN7bFw9g1CI/MwJMmHTFw6hRM3SJFxgsfI/aBQI5a8dvCcwrFeQIfil5cV8L+EOqUZIcSlyXbUMYogj+k8ZDCmaCp1h2hOY7WRlh3QuwmmljpQl4Gr+D5mDzgCnZ+EIZmEcsw0EQAgoclTnBqUoKc5HNISyldvBucJe+M4VNeAX6YjjnhP+E+t/44kVACT+VSjB7bCdERqShxfAV/GeaKlIWjsWpPOrilPS4lq+F1/msE/q0Lds29gNKlvMTpJUzaNA1Oq0OwqNUKLO0l6KGVNxBJCwpnEPoSy46eer3SixQ7IZ1KrmHH237Y+bRYn7fxSLjdDn2jB6P7c3JuIf8UIPZl12sylsxrip2Dh2FrdeuLc1nQDsVnQugWbUJkKOgTZfyh9CX3Rr9BHsjZPhOr95yFZr3926Vl6DJsE3r38YTs6CWUUDirC5ClVCKr1HGJC179NhA+uZsQMjsO9wy+PuGZrC8NFzHmHQpn0fRSIXfvciwuS8YTSCzshje2dkbHNjLEJle8WCWYs1bTgDCnkHwl8KHoRZrjCHVKsUOKy4KNKGMUxR3KeEjiQ9CU80dwbiK1ESsPjQOy0q01JfhtcQCG+s3ChsMZKDLuO+1oIxc0VTxGkcwNrk42VW4TSpr3QHcvFZSHTsIpaDUOXd2IkS1O4XiCCp69feDMXXSSKBzgYKNG/p375VfYC5JxMUUNj+c7omyTjrQ5/FYshd+lBZi1/AIeNYjvAxJHCwpncMtKId3FsqNNnnqmFy12WlmoyxbxmvbcLcFWLaAovo7067oJm9QXd5t0wOS/wrPIGa9vOoy4mwmISViP2WO7lG3VEMuOxkshn2mRW64VKXaCO5Txh9RXSQ6upz+F26t+eN5RdzXdpv2LeN7tHlISbpRdjDCXc+N+IQh9V4Yj3Jadcw8NAnqG6wsizDuVU8MUZ9H0KutQBvu2vRAY1Aey1FicqHTHubJf1v1v4TnFfP9pfIzrRfCHVKcEO+YHVqtnkMYoggeU8ZCylqjYlQlNCXMcKG0IaxtC6Cab1NlCXtpYAYcmTnDU/DkpYFd5H7laLcq2FGmzxlDdeIKeyw/gUJYSsYnfInR4O9jqkUjd3OAiycet7CdwaNMaLq6t4e78CHk3H0HSvDlcOL/UeUlI4m5D+wQFoae7Hbfs4UT3aIeWjhw+W1vYaOdEKdxGzMMM32NYOP0Q8jSX7evJyxJaUDhrcQnoLpad+qgXOXYz887G6x18Fv4n5K5ahn2/6xKX1JdNV7z0sgJ552OwbfoEBL8+Dkv2Aq99sQazhzprPzSLZadySMZ8rtzGEv/mqx1S7AQnKeMPqS91LqJnzEWM7SisOrMVC6OWYFX0B0DUFCw/ZLgCL3dKkLPUHUM+GYHmCWuw+sA9gzG7/o2HJIYEvTRNxJh3KnRlknNFh6qvl86OxPltROUkIz5lM0J7XcW3E77BhSfEoK21mcCcYo7bZD58egn5Q61TITvmBCZSW2sZD7XhEPnwakqY40BpY4Y/1ZGijhbycrzIbWOJy0rE/zR/GdGY2qd2dvmorm5DWI8BeN2jO17pPBJLf3HFu2vXImyAwcOuWnLFuBQeiLeefwcrTnBbCwxfxZewIXgh4puMxso0JU7fS8b/Er5GwAtSFOblIZ+78i5xGYjJC7ojYW4UTtytT5fiLaeFDikPZ7MyuGZ26q9eArlqFkOgcddRiIyei47xn2La/AQUVDnfNGeJogXcmqhw/eD3iIk7j98unMPRxQuwRemMAQH9YF+xiEzWl3l2KD5XCaKWDlBrxzRDkmOE8afcDl9f3J0X93bwcMzG/63fj/Oa5xhKHNDZ/130blv5SgqNs7SLPwJeKcIvX+2G/maO1pVnvb5EmXcMksMUZ8P8Ea5l7gOGCb1K7agfHMWSV/3xkf8crEtog7/vX4v3u5de9iJla4NuROUjxJkfknl1ym/Lku9a43goHD+fppS5idJG2Iuataid1bOgTyX4deUUjN+nubqteRUi53xt78FT4XGmEtEzI9B50GYMHt4dy+KOozg3F3fUjmjW0h6SkvvIyeDc4R6maO5uz12Jz8MdvVuPkjZjlu92KFq2RFPbQtxvNBRfnJyGopPJ2r2mikHvYpBHM8jWHsNra3UAJHIbyCVTsCOzJxb7fIQ92da4wLeMFioiZ6HUEctOfdRLrNj12QlFz2BE7Q6B897pCP74CHIMHlKk9KV++hTFailcXJy4Or6tuxpbko3sLBVsm7lCc8PqEUF3ip0C7Y0CCa/PQrkj/vv8tUNhSPVJaPxREzij0R8RsvpDyFcOw8zlV7mbvduwY8VuTI/diFn/OIL4cT+De9zVDM4yPBfwFjrcOYwVMQbbDjkLrL5Kla3ZvKOzYpqz7n1qXQjZ4ayp8pGdclH7dzbuOuzPbsDIIF9sCT2BSpe3SgN8tv6XxIfAmY8auU75jNTFe9YzHpoVPZ+mhDmugNKmlndo1NEVeW6/+eUkJB47hQTtXxJuPKjuIlcK134jEfLZKLzoRghHKoHE4JvxNLetlVekeGFQHzjpj0uc+6CPrxTpJ5MqPLiluWpfkJ2BjBwH+C34CN3uHMT23Tnah18f/TgfgS8OwYjeQxGo/XsHC3bdQnHqJoT1/wcO51U3PrNSshqNLaOFeZxNhyGWnfqol3mx89eFtOVgfLZ1Alz3hWJCWMVFvIY+qa8nV3H5d6B9P180La0pmw7w6ijDw2vXcZcrDLHsaHwS8tl01tTWO/y1Q4q9zDV+vXTNTI8/lL6kLl5o36IIGWk3y/fDP7iIc9zeCYWHOxz0wyeZs7wT+r/ZBvlHjuCs7hNAWTTPen1VybiazDs8nM2qCwE7VXxWq8D9B6mMMK9WObk+HqDUoEFcpviYy7kSKmqdWh9h6xkPq82msqaEOQ6UNtV2iHZiHV2RJzjXyBVt2rvCTt6WuwIugdy1Dby63Efh3Qyk33xcvhfTxgdjV83FmA7AEEUq3pmVqL1CrnvZolvQBPgUXkDajXyoHFujx+jx8G+dhR/2KHVXGIpTsec/8RjxxaeISJNj62mgG/f1k6/hGMI3/lY24TVy94ZXBw+09ekNv/cD0N/9Cta/F4E4/dfsqfKzkZ5vGJccze4WQ114F5mXbyK/tm84EJBWu4kYWhA5Q6gvkezUS72osWuE5q0LG3SbEoaBkqOI2JAF5z90grM+OVQPs3Ht+gOoKH1xbQ58l4j3FoXi87DbWH34PlqPnI2AdlexK+Qkd5+Ne4llBwSfq53gtXQiJfbSrnn1AoTGHxLn3EQkptrh/c/mwr9gIxIzAbeXx2D8EDmu/CsBt7RXjeicpS184eOtQsqXSp3WBhif7foSb97RIOXjLJZemgf/+04cAY+sFKTncp/KuLmy+3vjMdwjE3t3JdXvq/FCcwqlBs3gw68X15mAPypSnQrbsbpLh5YcDzWaCnBWUzQlznGC8yDFn9I8rMb/Wu1CXvbcWPw7LgQdSj1sH4ntI1W4tSYIQ6YeLx9Yiq8h4cgVDAuQ4OSxa2ULby0LiQIK904YFBCI8Z7OsC26x31t2gmsey8K6+NKdwOrkL1pBqYo5mDG1H8i6mPgjvIwovwjsP9G6f0QGbwnfIU1wc64dSUVST8twbiVe3Hu5rNxs1EULbj7FsKcue9+FdRdLDvVqJY6P4UWu9ZNvrqQuqFrz1awaeWJeceGVoiqKGY23hi+i7sTRemrBNdXhSLUbg6mBP8L3/3DBg+vnMKusaH4+nTpE3Ii2SH5XOcCVXKAErv+FD69uIfrhccfQl/cpLR+VCjkCyfhoy27MFvB/Z5G5q8482Uolkf9qr2zyD2dTMgNnc8yL294SvMQk/ZAlC8mqHv1CAxLneTTS7R5h8BZLL0k9nBs64NhwWPRoY0TZI+5C1DK41g7Mgobf6n65Ezda0X3QHhO0dvi1ZTOR6guBP2h1CnnsqAdOiILtRSpvkjjIYEPKecpcxylDcGfGqgg8bH3troPbjWIh53KCDACjAAjwAgwAowAI8AIPBMEnpXNb8+EmCxIRoARYAQYAUaAEWAEGIFnhwBbyD87WrNIGQFGgBFgBBgBRoARYAQaEAG2kG9AYrJQGAFGgBFgBBgBRoARYASeHQJsIf/saM0iZQQYAUaAEWAEGAFGgBFoQATYQr4BiclCYQQYAUaAEWAEGAFGgBF4dgiwhfyzozWLlBFgBBgBRoARYAQYAUagARFgC/kGJCYLhRFgBBgBRoARYAQYAUbg2SFg9Qt5O++hmHdWiQNLeqJav14l64Rxxy/hXEGawd9FRAUqylWWNEG3kMXYkJKIk7fPIjp2CUa+1ASlvzqvbajoiD8vXY896edx6tYZ/PdoJEb3bQpTAO26jMKKy6k4Ex+C9rKGkVA11oLCWY+Kty+x7BjI0hD1omQdL2eKAUtqQallis+WbGMGH163KOMPpa9Gnnht/kpsT0vC6btKHElch5mjO0NRNthJ4NTDH9N37sOPmRdwOo8b62KjENS/eflYZ9MLn6SmVhpTdeNrQvIc+NhUjaTe1BeFYdXwqh6h5KpQXyTOYuklR6s3JyH84CEczU3hdD+FH2IiMaZf04rzYNVI6/aIEMNqeGc8V4l8BOuLYofSpjywGo/h1WBU7VPE0osyHmqdlMDeewBGLf0S352Nxy+Z38HfvcLKTtvKNENCfXErU8HaIdVytalWb21c/e7oZ8pcu8AvJATjJvqhnb0EOYfp51ZoKbWHg0MJLkZ+iAU7b+l/gZD7RcOMx/pmUrQcHYkvFnVFyrL5CDsF+EycibDdkSjoG4L9GdzvHUqc0T/qO8x7/SrWTQtCbKYTek78FJN2r8DTl4Ow40pJhS7l3iOweN9kdFIVNohfPBRHCwJnjqJwX2LZKZesoelFqRRhzhQrFtZCsJYpPluyDY2PoEek8YfSV2P4zl+DRQFZWD/9Q3x+WYIOAdPwyZerIb85GBFHH3EF6Ikh4ZPgm/09vgk+j1xZOwycEYaJW22R22MSonO53w8sTsbmwED8ZFc+IUpcXsbENRPg/vNxXCuuGFH9qS8KQ0G1dA0Ec5XQF4WzaHqpUNzYFg9j1yA8MgNPmnTEwKlTMHWLFBkvfIzYB8S4LdqMwNBMf0znKoUPob64308W5kxpQ5krzQy+1puLpBdpPNQEY4f2YxZheXhXZO7aib2fb0F6RjYy7pT/BqrgPEipL4qmlFquAf9qXeSuQX/EU2XwCp6PyQOuYOcHYWgWsQwDiWdWaSZxglOTEuQkn0NaSuni3aCVvDOGT3kF+GE65oT/hPucxicSSuCpXIrRYzshOiIVJY6v4C/DXJGycDRW7UnX/pT5pWQ1vM5/jcC/dcGuuRdQupSXOL2ESZumwWl1CBa1WoGlvap4VM8OiKQFhTP308uCuotlR69Cw9OLkl4EzhQzltZCqJYpPluyDYkPwSHK+EPpS+6NfoM8kLN9JlbvOQvNevu3S8vQZdgm9O7jCdnRSygpuYYdb/th59Ni/ZgWj4Tb7dA3ejC6PyfnFvJPAXUBspRKZJW6LnHBq98Gwid3E0Jmx+GewW+F16v6ojAkyKVtIpSrlL4onEXTS4XcvcuxuCy+E0gs7IY3tnZGxzYyxCZXvFhFxVCr7SgMzXCAP1cJfCj1xa0ehDlT2og0hpvBp8ZNxdKLMh5yztr1mowl85pi5+Bh2Gps7UdZb1Dqi6IppZZrANjUzpAamBTj1BL8tjgAQ/1mYcPhDBTVxGQjFzRVPEaRzA2uTjZVbhNKmvdAdy8VlIdOwiloNQ5d3YiRLU7heIIKnr194MxddJIoHOBgo0b+nfvlV9gLknExRQ2P5zuibJOOtDn8ViyF36UFmLX8Ah4ZTGg1CaFuzxVHCwpncEsHId3FsqNl2iD1omSLMGeKFYtrIVDLFJ8t2YbGR9gjyvhD6qskB9fTn8LtVT8876i7mm7T/kU873YPKQk3yi5GqMsW8RrfuFvTrVpAUXwd6deNL+Ya9wtB6LsyHOG27Jx7aBBPPasvEkNhuXQtBHK1On2Z4iyaXmWxyWDfthcCg/pAlhqLE5XuOFMR1Ha76jA06ZNZuWqCD7G+yn0wYaeCk6baiDOGm+RRC2+IpRdlPAS3hWfA5L/Cs8gZr286jLibCYhJWI/ZY7sYbCOkMTSvvkzpVRGoqVquLvY6W8hLGyvg0MQJjpo/JwXsKu8jV6tF2ZYibdYYqhtP0HP5ARzKUiI28VuEDm8HWz0xqZsbXCT5uJX9BA5tWsPFtTXcnR8h7+YjSJo3hwvnlzovCUncbWifoCD0dLfjpjZOLI92aOnI4bO1hY12TpTCbcQ8zPA9hoXTDyFPc9m+nrwsoQWFsxaXgO5i2anPeomSVgKcKX1YWguhWqb4LHYbvtoh8xFwijL+kPpS5yJ6xlzE2I7CqjNbsTBqCVZFfwBETcHyQ4Yr8HKHbLzewWfhf0LuqmXY97uRQU3qjiGfjEDzhDVYfeCewZhd/8ZDEkMBrUrfFspVs/syybmiQ9XXS2dH4vw2onKSEZ+yGaG9ruLbCd/gwhNi0LXQzBL1Zc5cwMvHjPritaPnKNhGhDFcbMksoRdlPIRNV7z0sgJ552OwbfoEBL8+Dkv2Aq99sQazhzqXX9A1kyFffQnqVTY4mBozq69GHS3k5XiR28YSl5WI/2n+MqIxtU/t7PJRXd2GsB4D8LpHd7zSeSSW/uKKd9euRdgAg4ddtfyKcSk8EG89/w5WnOBuHxu+ii9hQ/BCxDcZjZVpSpy+l4z/JXyNgBekKMzLQz535V3iMhCTF3RHwtwonLhbny7FW04LHVIezmblcc3s1F+9zIJkocaW0YJeyxYKm3vEiDaO1YwPCONPecR8fXFX193bwcMxG/+3fj/Oa/aKljigs/+76N228pUUoHHXUYiMnouO8Z9i2vwEFBjBKu3ij4BXivDLV7theMG+ftcXH0MjEIwcoucqrS9TnA27rolepXbUD45iyav++Mh/DtYltMHf96/F+91LL3sZCbRWD1mmvszJVX4+9Prit6ODSmlTq/jNNm4ZvSjjoUTRAm5NVLh+8HvExJ3HbxfO4ejiBdiidMaAgH6wNzs24fGQqhells11r3ZWz4JelODXlVMwfp/m6rbmVYic88Zv2wqaIjdQ4XGmEtEzI9B50GYMHt4dy+KOozg3F3fUjmjW0h6SkvvIyeAMcg9TNHe3567E5+GO3q1HSZsxy3c7FC1boqltIe43GoovTk5D0clk7V5TxaB3McijGWRrj+G1tTqnJHIbyCVTsCOzJxb7fIQ92da4wLeMFioiZyE5xbJTf/USImS59+tOC+O1XOnjtwVA8NeOWHw0gQiNP2pKfTX6I0JWfwj5ymGYufwqt5VmG3as2I3psRsx6x9HED/uZ3CPu3IvCRQ9gxG1OwTOe6cj+OMjyKn0AKsOrgzPBbyFDncOY0WMwbZD7s36WF9i6lWefMZzlTrvCHHWvV9zvcr8VeUjO+Wi9u9s3HXYn92AkUG+2BJ6Ag21vszKVT4+5PriaPPZKRWD0qY80azg/7Oi8fDpUxSrpXBxceJGs9u6O4Ul2cjOUsG2mSs0mykKjNxgNA6RWF8kvUyPmcb7ph2to4U8t9/8chISL9Oc5G8lhWu/QAQMlOLUN9twNldAHakEEoNvH9LcplFekcJ/UB84bTuofdhV4twHfXylSP8mqcKDW5qr9gXZGSiwa493NnyEbncOYsbuHO3Dr49+nI/AF5ca7MGXo+us9fi82wGEjV4HZZ41LuI1ZC2jhXmcTSsulp36q5dpNrXzjun6qnMtKtVy7cTPZ5W/dszjY5pzuQemxx8QxjGpixfatyhCRtrN8v3wDy7iHLd3YoSHOxy4ye0RN5hJWw7GZ1snwHXfVIwPi8MtU0OqvBP6v9kG+UcW46zuE0CZq/WxvsTXyyB3ajLv8HDW9CCGXkazXK0C9x+ksjq6cS8wN4mlV7VztRIfan1VYU3hTGlTxbClD1jRePjkKi7/Dvyxny+aLv8dtzXLL5sO8Ooow8Mz13HX1JhmBBm5vgzPNaWXQC0b6Z50qI4W8gTfGrmiTXtX2MnbclfAJZC7toFXl/sovJuB9JuPy/di2vhg7Kq5GNMBGKJIxTuzErVXyHUvW3QLmgCfwgtIu5EPlWNr9Bg9Hv6ts/DDHqXuCkNxKvb8Jx4jvvgUEWlybD0NdOO+fvI1HEP4xt/KJrxG7t7w6uCBtj694fd+APq7X8H69yIQp/8qI1V+NtLzDeOSo9ndYqgL7yLz8k3k1/YNBwLSajcRQwsiZwj1JZKdBq0XRWghzqU2+OrLoloQapkStyXbUPlofOLjzL0tNP6A0lduIhJT7fD+Z3PhX7ARiZmA28tjMH6IHFf+laBfsNug25QwDJQcRcSGLDj/oROc9cxUD7Nx7foD7YULzUvawhc+3iqkfKnk7qlWfNXL+qIwLA2TVy9CrprRFx9nLnFE0Uvz4H/fiSPgkZWC9FzuUxk3V3Z/bzyGe2Ri766kOrgaXymhjP3TDIZ89UXKVQofSn1R7FDaaHhQx3Bj7OrimEh6aUMXWI9pxsMD3yXivUWh+DzsNlYfvo/WI2cjoN1V7Ao5WT5eCTIk1BdVL85v/lquvihWu5CXPTcW/44LQYdSD9tHYvtIFW6tCcKQqcfLB5bia0g4cgXDAiQ4eexa2cJbi0SigMK9EwYFBGK8pzNsi+5xX5t2Auvei8L6uNIdnypkb5qBKYo5mDH1n4j6GLijPIwo/wjsv1E6ZcngPeErrAl2xq0rqUj6aQnGrdyLczctf7Ox+lJX/0xRtOCmf2HO3HfjCuoulp3q82gIZwpz1kfJV1+iaUogSqplgh2LNqHlqtYlXs6U8YfQFze5rR8VCvnCSfhoyy7MVnC/p5H5K858GYrlUb/qFuhSN3Tt2Qo2rTwx79jQCrSKYmbjjeG7yu5Syry84SnNQ0zaA1G+mMCi0hjtjMCw9Dw+vUi5Su+Ll7NYekns4djWB8OCx6JDGyfIHnMXoJTHsXZkFDb+YuzpCKMALXyQzpC/vghuU/hQ6otih9KGc5k8hhPCs0wTsfSijIcluL4qFKF2czAl+F/47h82eHjlFHaNDcXXp8uf3hZkSKkvol4axry1XAMRJD723ta656MGYbFTGQFGgBFgBBgBRoARYAQYgYZNoK42vzVsqiw6RoARYAQYAUaAEWAEGAFGoJYJsIV8LQNm5hkBRoARYAQYAUaAEWAEGIHaIMAW8rVBldlkBBgBRoARYAQYAUaAEWAEapkAW8jXMmBmnhFgBBgBRoARYAQYAUaAEagNAmwhXxtUmU1GgBFgBBgBRoARYAQYAUaglgmwhXwtA2bmGQFGgBFgBBgBRoARYAQYgdogwBbytUGV2WQEGAFGgBFgBBgBRoARYARqmUCdLuTtvIdi3lklDizpCfN/mUoCpx7+mL5zH37MvIDTeWfw39goBPVvjgpBKTriz0vXY0/6eZy6xbU5GonRfZtWbCPrhHHHL+FcQZrB30VEBSrK8TfyxGvzV2J7WhJO31XiSOI6zBzdGQqJgUKUNrUsaG2ar5lenGeSJugWshgbUhJx8vZZRMcuwciXmsAQYan/vH2JZccAll2XUVhxORVn4kPQXlabFGto24zYTfZk0wufpKZWyndd7ickz4GPjf5Modqh2qHUl75LXt3NsGMydku/IYZeGp+FtNC0ofQlOEYRxlWq7gasn6n60sRNyVUhvUicxdJLjlZvTkL4wUM4mpvCzaen8ENMJMb0a2p0fLZ0GVmqP97xR9AJ8xkarwux7Ag6bPkGQjlP9UhwPCQypPhDaaP3m5o/xnWnBl9e9g7dAAAcmUlEQVS1nfnr56o2zD4ic+0Cv5AQjJvoh3b2EuQcNtsEN1B6Ykj4JPhmf49vgs8jV9YOA2eEYeJWW+T2mIToXO53riTO6B/1Hea9fhXrpgUhNtMJPSd+ikm7V+Dpy0HYcaVE17HUHg4OJbgY+SEW7Lyl/5VC7lcPMx7rHWsM3/lrsCggC+unf4jPL0vQIWAaPvlyNeQ3ByPiKPeT1qC0qUacVnCKKHpxH51ajo7EF4u6ImXZfISdAnwmzkTY7kgU9A3B/gzdr+gK9yWWnXKwcu8RWLxvMjqpCq38FyppsQumTHEyNgcG4ie78o9QEpeXMXHNBLj/fBzXijkLlNqh2NE4I1hfXDlTxgSCHcHYLdpAJL0oWpDqizBGUcZVqu561s9cfZFynpAbFM6i6aVCcWNbPIxdg/DIDDxp0hEDp07B1C1SZLzwMWIfWLRwLN4ZafwR9Mo8hqbrQiw7gg5buAEh5ykekcZDCkOKP5Q2xPmrFsfDOljIy+AVPB+TB1zBzg/C0CxiGQZSxKvcpuQadrzth51Pi6Fbjscj4XY79I0ejO7PybmF/FPA8RX8ZZgrUhaOxqo96dqfIL+UrIbX+a8R+Lcu2DX3gu5ciROcmpQgJ/kc0lJKF+8GHcq90W+QB3K2z8TqPWehWef8dmkZugzbhN59PCE7egkllDaVY6gX/xZJL3lnDJ/yCvDDdMwJ/wn3uc9ZJxJK4KlcitFjOyE6IpXTgtCXWHb07CVOL2HSpmlwWh2CRa1WYGkvKxaFFDvBf3UBspRKZJU2lbjg1W8D4ZO7CSGz43BP81vPToTaodjR9CFUXxTdSXYIsVuyiVh6UcYxSl+UMYoyrlJ110r/DNYXJVcpelE4i6aXCrl7l2NxWX2cQGJhN7yxtTM6tpEhNll/0cuS9WOxvgjzDskXOkP+uhDLDslpyzWi5DzFG8p4yK32BPOZ4g+lDXX+4mLj150SvPE2dbC1pgS/LQ7AUL9Z2HA4A0XG/SIdVZct4jXNJbBv1QKK4utIv64bdCQKBzjYqJF/5375ldaCZFxMUcPj+Y4o2zjTyAVNFY9RJHODq5NN1VuJJTm4nv4Ubq/64XlH3VVMm/Yv4nm3e0hJuKH7MEBpQ4rK2hqJo5ekeQ9091JBeegknIJW49DVjRjZ4hSOJ6jg2dsHzlqswn2JZUdLWdocfiuWwu/SAsxafgGPNAtYK37RYjc/gMb9QhD6rgxHuK1j5x7qzifXjkF3xuxo3xaqL4LuNDvmx16bZ4ilF0ULUl/EMUpoXK3MzKTuz3J9CeQ8Sa9KoE1xFk2vsv5ksG/bC4FBfSBLjcWJ0jvXlYVvMP8WnnfMD5WHoVl1IZYd8yMQ+4zq5LwxHyjjYcXzjDOk+ENpQ1m3aP0xS3djkZs+VisLeWljBRyaOMFR8+ekgF3lPcdqtehbGGy83sFn4X9C7qpl2Pe7bpuGOi8JSdw2GJ+gIPR0t+MW6JygHu3Q0pEL29YWNvqdBdJmjaG68QQ9lx/AoSwlYhO/RejwdrAt5abORfSMuYixHYVVZ7ZiYdQSrIr+AIiaguWH9CsfShvTOtTpO5bQS+rmBhdJPm5lP4FDm9ZwcW0Nd+dHyLv5CJLmzeFSmiMCuSGWHa6q4DZiHmb4HsPC6YeQp0uZOtVBW+s8tUOO3ZwopO4Y8skINE9Yg9UH7pXVJbV2yroyYUcbk1B9aRoJ6E62Y07sIrS1hF4ULUi5UY0xyti4WgGbSd2ts774JCcx5DNg8J5Qzpvdl0nOFR2qvl46OxLntxGVk4z4lM0I7XUV3074BheeEIO24mZ8dap1mzD+UMPjZ0ivC7HsUP0Wox0fZ7Nz3oRDlPGw9FQ+hhR/KG1o+UPX3UTYvIdrYSEvx4vc1om4rET8T/OXEY2pfWp3B0/jrqMQGT0XHeM/xbT5CSgoDbn4EjYEL0R8k9FYmabE6XvJ+F/C1wh4QYrCvDzk66/Aqq5uQ1iPAXjdozte6TwSS39xxbtr1yJsQOk1e+5qv3s7eDhm4//W78f5O9yJJQ7o7P8uerctXYFS2vBqUUdvWlqvYlwKD8Rbz7+DFSe47U/VftXMjsRlICYv6I6EuVE4cddaLsVTtahZ7IbIpV38EfBKEX75ajf0N7J0bxNrp9SWSTtcA+H6oiWBWHZovVFaWUgvs7Tgyw3zxiiT46oBGlO6W2d9UTTVtOFjSLNBz1VaX6Y4G3pTE71K7agfHMWSV/3xkf8crEtog7/vX4v3u5dd0qIFb3WtqHUqjuN8DM2pC7HsiBMVxQqVMy3nTfZoxnjIx7DcPsUfShuTHsMc3U1bMf1OLaywS/DryikYv09zBVzzKkTO+draXyeBomcwonaHwHnvdAR/fAQ5mg3sBq9HSZsxy3c7FC1boqltIe43GoovTk5D0clk7V73ii8VHmcqET0zAp0Hbcbg4d2xLO44njb6I0JWfwj5ymGYufwqtxFgG3as2I3psRsx6x9HED/uZzyitKncnVX82zJ6qXJzcUftiGYt7SEpuY+cDC547qGV5u72UHMfqu4QU0QsO4pB72KQRzPI1h7Da2t1QkjkNpBLpmBHZk8s9vkIe7ItvcDn10Ks2MvTTobnAt5ChzuHsSLGYPuZvgG9dvjtlPdnor7MrgOx7JjdcaUTLKeXkBZqSn2RxyjhcVUHwrTu1llf/HqLX1+a/oznajFFrzJ3TXPWNam5XmVdqfKRnXJR+3c27jrsz27AyCBfbAk9gZpcduEnX9vv8tep6L3zMLQzZ94Ry47oAZoyyM9ZzPoSGg8p+UypQbF8ru3xsBYW8tye9MtJSLxsSmxzjkvh2i8QAQOlOPXNNpzNrbj/QdpyMD7bOgGu+6ZifFgcbpncHlGMguwMFNi1xzsbPkK3OwcxY3eO9uFXoy+pBBKD70SUunihfYsiZKTd1D9Yy92Je3AR57h7jiM83OHA3dd4QmjzyGSHRr2w0EHL6KW5Haa8IoX/oD5w2nZQ+7CrxLkP+vhKkf5Nku4BS0LEYtl59ON8BL641OB5CDm6zlqPz7sdQNjodVDmWXoRrwmeXwvzYuevHS1qeSf0f7MN8o8sxlnNFy8ZfRFqh2THwHil+jLaLeWgWHYofRltY2G9uEsPJscxQn1RxjHNGEUeV3l0t876Mipi2UHR68uwu0q5alZfPJw1XYihl1EyahW4/yCV1cKNe6Md1tZB/jo1r1fCuGposBLDateFWHbMC9bM1vyczcp5busr39pP5xjPeGjM80oMKf5Q2hjrqvKxaute2ZCJf9fCQt5ET4aHG7miTXtX2MnbclfJJZC7toFXl/sovJuB9JuPy/fP2/hg7Kq5GNMBGKJIxTuzEg2uotug25QwDJQcRcSGLDj/oROc9X2oHmbj2vUH2oV6I3dveHXwQFuf3vB7PwD93a9g/XsRiNNsj9G+bNEtaAJ8Ci8g7UY+VI6t0WP0ePi3zsIPe5S6qxC5iUhMtcP7n82Ff8FGJGYCbi+Pwfghclz5V4L2A4SK0MYQQb36/8XQqzgVe/4TjxFffIqINDm2nga6cV8/+RqOIXzjb2UfkCDUl0h2VPnZSM83VEGOZneLoS68i8zLN5FPvENgUR2psWuc4q0dndfSFr7w8VYh5Usld9+s6ku4dih2CPWlMSOkO6VOq4ZQt0dE1EtQC0pfpDGKNq5qwPLlz7NdX4Scp+ilz14+zlyhk+ZBIb00D+L1nTgCHlkpSM/lPtVz82D398ZjuEcm9u5KqsdX44lDgOD4o7fDN65SGFLmHbHsEEO3WDMzcl5o/hIcDykMKf5Q2mgACuRPbY+HdbKQlz03Fv+OC0GH0t7bR2L7SBVurQnCkKncVpbSzCq+hoQjVzAsQIKTx66VL/a0o5IbuvZsBZtWnph3bGiFXCyKmY03hu/irvLK4D3hK6wJdsatK6lI+mkJxq3ci3M3DW4SShRQuHfCoIBAjPd0hm3RPe6r+U5g3XtRWB+n323Pibl+VCjkCyfhoy27MFvBfcd85q8482Uolkf9qruyT2ljsYoRtyNR9OIoZW+agSmKOZgx9Z+I+hi4ozyMKP8I7L9RfqtCuC+x7IjLyDLWaLFrfeGrHb2zMi9veErzEJP2wMjD54Taodih1BdnR1B3oh3L6EDtRSy9KFoQ+qKMUaRxVRc/f/5QGVlTOwLDUnf56ouUq/S+eDmLpZfEHo5tfTAseCw6tHGC7DF3QUN5HGtHRmHjL2VPnVmTWKL6Ijj+kHQXiWGD1YKe8/zzF2E8JDGk+ENpQ5i/RM3WqsYkPvbedbGHoKon7AgjwAgwAowAI8AIMAKMACPACJAJ1PfNb+RAWUNGgBFgBBgBRoARYAQYAUagIRFgC/mGpCaLhRFgBBgBRoARYAQYAUbgmSHAFvLPjNQsUEaAEWAEGAFGgBFgBBiBhkSALeQbkposFkaAEWAEGAFGgBFgBBiBZ4YAW8g/M1KzQBkBRoARYAQYAUaAEWAEGhIBtpBvSGqyWBgBRoARYAQYAUaAEWAEnhkCbCH/zEjNAmUEGAFGgBFgBBgBRoARaEgE6nQhb+c9FPPOKnFgSU9U65epZJ0w7vglnCtIM/i7iKhARblGlDb61hR/xGpTH5OIEjtvXJIm6BayGBtSEnHy9llExy7ByJeaQGLkJN6+xLJj0K9dl1FYcTkVZ+JD0F5mxKH6dMgMPqbDksCphz+m79yHHzMv4HTeGfw3NgpB/ZtzP55d+SWBvfcAjFr6Jb47G49fMr+Dv3tVVU1rSuxL0RF/Xroee9LP49Qtzp+jkRjdt6kRfyr7V4f/FkULzn9K7JS+GnnitfkrsT0tCafvKnEkcR1mju4MRZlcBC1seuGT1NRK465uDE5IngMfm6q8G1R96cMznc9V4zd6hKKp9kSB+qLYEdSd68aMudJoPHVxkJLzZvrFn6sCWgjpVQu1U+M8NJOPpZrXLC45Wr05CeEHD+Fobgo3f53CDzGRGNOvae2sN8i1Q8kf8wlXa/1sfjcVz5C5doFfSAjGTfRDO3sJcg5X06LUHg4OJbgY+SEW7Lyl/3VK7ldXMx6XGyS0ofgjVptqRlqnp1FiF3ZQipajI/HFoq5IWTYfYacAn4kzEbY7EgV9Q7A/Q/frrsJ9iWWn3GO59wgs3jcZnVSFRn7hVDgy62pB4yPos8wTQ8InwTf7e3wTfB65snYYOCMME7faIrfHJETnlv6OnB3aj1mE5eFdkblrJ/Z+vgXpGdnIuFP+O3OCmlL6kjijf9R3mPf6VaybFoTYTCf0nPgpJu1egacvB2HHlRLBkCzfQCQtSLFT+moM3/lrsCggC+unf4jPL0vQIWAaPvlyNeQ3ByPi6CNuMUfQvTgZmwMD8ZNd+Yc1icvLmLhmAtx/Po5rxRVJN6z64hCJMX+RNNVwFKgvkh2C7pquCHOl5WuIr0dKzvOdX/U9/lwV0EJrTqCNiLUjSh5WRVDnR8SJS4XixrZ4GLsG4ZEZeNKkIwZOnYKpW6TIeOFjxD7QhSncFzHHSLUjkBs1IF8HC3kZvILnY/KAK9j5QRiaRSzDwOoGIHGCU5MS5CSfQ1qKweLd0J5gG4o/YrWpbqB1eR4ldoJ/8s4YPuUV4IfpmBP+E+5z67wTCSXwVC7F6LGdEB2RihIQ+hLLjt5lidNLmLRpGpxWh2BRqxVY2osQizU3IfEhBFByDTve9sPOp8WcLppXPBJut0Pf6MHo/pycW8g/1R616zUZS+Y1xc7Bw7DVaA0SNKX05fgK/jLMFSkLR2PVnnRoPvZdSlbD6/zXCPxbF+yae0HvJyE2SzURSwtK7JS+5N7oN8gDOdtnYvWes9Cst3+7tAxdhm1C7z6ekB29hBKKFuoCZCmVyCrlKHHBq98Gwid3E0Jmx+GewW+FN7j6ooxRlPyiaEqpL4odiu4anwXnSkpgFmxDyXkz3BHKVeGxjjAeilY7hHHVjNitp6lYcamQu3c5FpcFdgKJhd3wxtbO6NhGhthkzaxG6IuaY4TaoeRPdXWoepe8upbI55Xgt8UBGOo3CxsOZ6CIfJ6Rho1c0FTxGEUyN7g62Ri9ZQLBNhR/xGpjJAarP0SJXTgISfMe6O6lgvLQSTgFrcahqxsxssUpHE9QwbO3D5y1F/eE+xLLjtZjaXP4rVgKv0sLMGv5BTwyWIAIR2SdLWh8aL6ryxbxmvbcLcFWLaAovo706/qr39xt7QGT/wrPIme8vukw4m4mICZhPWaP7WKwVUNYU411ob4kCgc42KiRf+d++V2TgmRcTFHD4/mOMNhMRwvOAq3E0oISO6mvkhxcT38Kt1f98Lyj7mq6TfsX8bzbPaQk3Cj7ICSkRWV0jfuFIPRdGY5wW3bOPTR4twHWF2WMqszH2L8pmoJQXyQ7RN2F50pjkdTdMVLOU90TylWCFhS9KrtT/dqhjauV+7P+f9dGXDLYt+2FwKA+kKXG4kTZ3Vvhvsg5JrTOpORPDcSpg4U8561aLcoWBmmzxlDdeIKeyw/gUJYSsYnfInR4O9gaAKG0IflD8ZnSpgZi1dap0sYKODRxgqPmz0kBu8p7xEWIS+rmBhdJPm5lP4FDm9ZwcW0Nd+dHyLv5CJLmzeFS2qdAX2LZ4VbxcBsxDzN8j2Hh9EPI0+3sqS3Eotrl04vMx0yPbLzewWfhf0LuqmXY97selk1XvPSyAnnnY7Bt+gQEvz4OS/YCr32xBrOHOpd/sBbQtLIrxvpS5yUhidsK4hMUhJ7udpxtbnD2aIeWjtwQZmsLm6pb8iubrZV/W0ILSuwk3dW5iJ4xFzG2o7DqzFYsjFqCVdEfAFFTsPyQ4Qq8HJUxLSqAlLpjyCcj0DxhDVYfuGcwrjfM+tLGbmY+G0s8iqYg1BfJDlF30lxpLJg6OkbKeZJvhFwlaEHRS9TaESEPSXgs3UjEuCTObyMqJxnxKZsR2usqvp3wDS48MQhIoC9qjgnWDiV/asC5DrbW1MDbSqeqrm5DWI9t3FEpGnt0w8DpczFr7Vo0uvMXLI4r0LamtBHPo/poSY4Xua0uq/7uzi2NuFdJJrYN8UNkfKWNrqKFVoxL4YF4a60UtzOeoteY6hqumR2Jy0BMXtAdCbP+ghN369OleKpeNeNjqErjrqOwcNcn6BD/KSbMT4Cusrhr9IoWcGuiwvWD3yMm7rZ2EfdbygK0feMAPgzoB/v90WVtqSqb6gvFl7AheCE8107DyrTxUHPpKXmSj0d2UhTuyUN+nUhoIS3Mip1Pd+6uins7eDhm4//W7sd5m+4YVOKAzv7vove2JMSkV3zOwKQWBmJKu/gj4JUi/BK0G6U3ajRvN/z6oma0iXYETUn1RbCjvZtG0L3+zpV8OW+Cv8FhSq5StHhk5njY8GpHmLWlW6gfHMWSV/2xqe0f0HfcRPx9/1rgz2OxXmnuXhD+HBOqHUr+lM6r1WFUrxfy5QGr8DhTieiZEeg8aDMGD++OZXHHodvFW9qK0qY6COv7OSX4deUUjN+nucqpeRUi57z4Dw6qcnNxR+2IZi3tISm5j5wMrivuQa3m7vZQ5+XhDrFLsewoBr2LQR7NIFt7DK9xta15SeQ2kEumYEdmTyz2+Qh7sutkdahzxuT/5ddLLD56IlD0DEbU7hA4752O4I+PIMfg85366VMUq6VwcXHicke3kEdJNrKzVLBt5grNxfIC8p0OCW9fGn8eJW3GLN/tULRsiaa2hbjfaCi+ODkNRSeTtfu9Lf+ynBZCsasp9dXojwhZ/SHkK4dh5vKr3FaabdixYjemx27ErH8cQfy4n8E97sq9hLXQsZbhuYC30OHOYayIMdjyxL3ZUOtLzBwT1JRYX0J2QNa9NLr6MVeKNdaRcvUhYawj6tVwa0fM6hDJliof2SkXtX9n467D/uwGjAzyxZbQE5XWh8b7Mz/HTNSOWblh3Be+o1a+kJfCtV8gAgZKceqbbTibK7AqkEogEbrFTmnDR6zBvcftO76chMTLYgRmWi/NLWDlFSn8B/WB07aD2oddJc590MdXivRvkio8IMfniVh2Hv04H4EvLjV4rkKOrrPW4/NuBxA2eh2Ueda4iNeQ4dfLPD6m9dL0JG05GJ9tnQDXfVMxPiwOtyqX35OruPw78Md+vmi6/Hfc1iCz6QCvjjI8PHMddyu35xFWsK+yc4tRkJ2BArv2eGfDR+h25yBm7M7RPvxq+ZfltNDFxhM7ob6kLl5o36IIGWk3y/fDP7iIc9y95hEe7nDgPng94kCStZB3Qv832yD/yGKc1X0CKJOgodaXeTnGX1+CmppVX6Zzg6p7ldisfK4Ua6wj5aqEMNaZo1eDrJ0qGVTLByj1ZeCCWgXuP0hl9B3l5uWYQV+Va8ec3KgGtbpZyDdyRZv2rrCTt+WurEkgd20Dry73UXg3A+k3H5fvs7TxwdhVczGmAzBEkYp3ZiUaXHmzRbegCfApvIC0G/lQObZGj9Hj4d86Cz/sUeo/bVHacNQo/ojVphoi1fkplNg1TvLpVZyKPf+Jx4gvPkVEmhxbTwPduK+ffA3HEL7xt/JvHBHqSyQ7qvxspOcbkpWj2d1iqAvvIvPyTeQT7xDUuTaVHaDyEdILNug2JQwDJUcRsSELzn/oBGd9X6qH2bh2/QFUXF8HvkvEe4tC8XnYbaw+fB+tR85GQLur2BVykru3o38JaUrpizPVyN0bXh080NanN/zeD0B/9ytY/14E4gy+6rIyjjr9t2haEGKn9JWbiMRUO7z/2Vz4F2xEYibg9vIYjB8ix5V/Jeg/qBF010OVtvCFj7cKKV8qy7UuzZGGWl+a+ATzWQ+Bbzyk5DOxvoTqQkXSnThX1mlBVeqckvOlp/BoQZsLCGMdUS+NS6LUDjUPrUkzii/UuHg01XyRRd+JI+CRlYL0XO4qA7c+7P7eeAz3yMTeXUnlV+OF+iLlGKF2zMgNCqLKbSQ+9t4Wv/Qo6xGG7+NC0KHCxwgVbq0JwpCpBltiuK81+9PyTfhngAQxwWOwMFp/+14ThaQpes+OwISAHujg6QzbonvcV6KdwI//jsL6H2/ovg2H0oYzRfFHrDaVBagP/6bEro2DTy/t+9wPQv19DmZMfR2d3YA7ysPYxG2H2na6/LY8qS+x7FSAL0fPZT/jqz9uw1/7r8Tv9XUhT+QsqJfUA6MOHsbH/ar+uk9RzGy8MXyX7i6KtBl6Tp2DKcH90bmlDR5e4X54Y948fH0gs+xDt6CmpL5k6PrPH7Em2Bm3rqQi6Ug0dq/ci3M3K26gqyCpNfyDkKuCWnBPr5BiJ/Rl294PHy2chL8M6ITmCu43NzJ/xZltX2P5oqPI0qAkaaEDa/OneTiwvz9iBg/CshNCm5saTn0J5nNp3vGOh0RNBeuLZkdQd+JcaQ0lVcEHQs4L11flqEzkqqAWmvoRHg81vYlRO+Q8rByelf+bHBdffXG/h/HG4k8x5s3u6NDGCbLH3AU65XHt+nDjwcyyb0sk9SWUY9TaIeZGdeSpk4V8dRxl5zACjAAjwAgwAowAI8AIMAKMQDkB+mYhRo0RYAQYAUaAEWAEGAFGgBFgBKyGAFvIW40UzBFGgBFgBBgBRoARYAQYAUaAToAt5OmsWEtGgBFgBBgBRoARYAQYAUbAagiwhbzVSMEcYQQYAUaAEWAEGAFGgBFgBOgE2EKezoq1ZAQYAUaAEWAEGAFGgBFgBKyGAFvIW40UzBFGgBFgBBgBRoARYAQYAUaAToAt5OmsWEtGgBFgBBgBRoARYAQYAUbAagiwhbzVSMEcYQQYAUaAEWAEGAFGgBFgBOgE/h8E2MUXrWypSgAAAABJRU5ErkJggg==)"
      ],
      "metadata": {
        "id": "_pfgWqap7y0_"
      }
    },
    {
      "cell_type": "markdown",
      "source": [
        "##Entrenamiento"
      ],
      "metadata": {
        "id": "3COx8C-c98Hm"
      }
    },
    {
      "cell_type": "code",
      "execution_count": null,
      "metadata": {
        "colab": {
          "base_uri": "https://localhost:8080/",
          "height": 408
        },
        "id": "21iZtOQIfzlv",
        "outputId": "508681c8-a139-4bfb-e216-04dd09100895"
      },
      "outputs": [
        {
          "output_type": "display_data",
          "data": {
            "text/plain": [
              "<Figure size 864x432 with 1 Axes>"
            ],
            "image/png": "[encoded data removed]"
          },
          "metadata": {
            "needs_background": "light"
          }
        }
      ],
      "source": [
        "# Se presentan las gráficas de predicciones entre el modelo C++ y\n",
        "# el modelo Sklearn\n",
        "fig, axes = plt.subplots(figsize=(12, 6))\n",
        "plt.scatter(y_train, y_train_hatSk, c='r', label='Sklearn')\n",
        "plt.scatter(y_train, y_hatCpp, c='b', label='C++')\n",
        "plt.legend(loc=2)\n",
        "plt.grid()\n",
        "plt.title('Predicción de gastos médicos individuales facturados por el seguro de enfermedad: Modelo Sklearn VS Modelo C++')\n",
        "plt.xlabel('Gastos medicos $y_i$')\n",
        "plt.ylabel('Valores de predicción de los gastos medicos $\\hat{y_i}$')\n",
        "plt.show()"
      ]
    },
    {
      "cell_type": "code",
      "execution_count": null,
      "metadata": {
        "colab": {
          "base_uri": "https://localhost:8080/"
        },
        "id": "m1Or2Kzbhlqc",
        "outputId": "4cc6c657-9f51-40a0-b49c-f45dcae87108"
      },
      "outputs": [
        {
          "output_type": "stream",
          "name": "stdout",
          "text": [
            "Métrica de rendimiento SK (r2_score) 0.7485033969376796\n",
            "Métrica de rendimiento CPP (r2_score) 0.7485033869434954\n"
          ]
        }
      ],
      "source": [
        "# Se extrae las métricas de rendimiento\n",
        "r2Sk = r2_score(y_train, y_train_hatSk)\n",
        "r2Cpp = r2_score(y_train, y_hatCpp)\n",
        "print(f\"Métrica de rendimiento SK (r2_score) {r2Sk}\")\n",
        "print(f\"Métrica de rendimiento CPP (r2_score) {r2Cpp}\")"
      ]
    },
    {
      "cell_type": "markdown",
      "source": [
        "![image.png](data:image/png;base64,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)"
      ],
      "metadata": {
        "id": "xgY2NDerChYl"
      }
    },
    {
      "cell_type": "code",
      "execution_count": null,
      "metadata": {
        "colab": {
          "base_uri": "https://localhost:8080/",
          "height": 406
        },
        "id": "RaazLIxdiUGe",
        "outputId": "86cf9c0a-3f1a-49bb-b470-39266d9509a7"
      },
      "outputs": [
        {
          "output_type": "display_data",
          "data": {
            "text/plain": [
              "<Figure size 864x432 with 1 Axes>"
            ],
            "image/png": "[encoded data removed]"
          },
          "metadata": {
            "needs_background": "light"
          }
        }
      ],
      "source": [
        "# Se presenta la función de costo\n",
        "plt.figure(figsize=(12, 6))\n",
        "plt.plot(costoCpp)\n",
        "plt.title('Costo entrenamiento VS épocas entrenamiento Modelo LR CPP de insurance')\n",
        "plt.ylabel(r'Costo $J(\\theta)$')\n",
        "plt.xlabel('Épocas')\n",
        "plt.show()"
      ]
    },
    {
      "cell_type": "code",
      "execution_count": null,
      "metadata": {
        "id": "wK1JzMXAjPTM"
      },
      "outputs": [],
      "source": [
        "# El gradiente descendiente representa las derivadas parciales\n",
        "# m y b representa los coeficientes\n",
        "# en la función de costo \n",
        "\n",
        "# Se observa que a medida que se itera, se va encontrando el mínimo valor para\n",
        "# que la función de costo sea mínima."
      ]
    },
    {
      "cell_type": "markdown",
      "source": [
        "##Test"
      ],
      "metadata": {
        "id": "0oriZvvr-psu"
      }
    },
    {
      "cell_type": "code",
      "execution_count": null,
      "metadata": {
        "colab": {
          "base_uri": "https://localhost:8080/",
          "height": 408
        },
        "outputId": "beae51f8-b2cd-43f1-bc70-c8dda1f223b8",
        "id": "4gCBc7Kc-ps3"
      },
      "outputs": [
        {
          "output_type": "display_data",
          "data": {
            "text/plain": [
              "<Figure size 864x432 with 1 Axes>"
            ],
            "image/png": "[encoded data removed]"
          },
          "metadata": {
            "needs_background": "light"
          }
        }
      ],
      "source": [
        "# Se presenty_trainan las gráficas de predicciones entre el modelo C++ y\n",
        "# el modelo Sklearn\n",
        "fig, axes = plt.subplots(figsize=(12, 6))\n",
        "plt.scatter(y_test, y_test_hatSk, c='r', label='Sklearn')\n",
        "plt.scatter(y_test, y_hatCpptest, c='b', label='C++')\n",
        "plt.legend(loc=2)\n",
        "plt.grid()\n",
        "plt.title('Predicción de gastos médicos individuales facturados por el seguro de enfermedad: Modelo Sklearn VS Modelo C++')\n",
        "plt.xlabel('Gastos medicos $y_i$')\n",
        "plt.ylabel('Valores de predicción de los gastos medicos $\\hat{y_i}$')\n",
        "plt.show()"
      ]
    },
    {
      "cell_type": "code",
      "execution_count": null,
      "metadata": {
        "colab": {
          "base_uri": "https://localhost:8080/"
        },
        "outputId": "1e9105ca-358c-4509-963d-1bd9d5f809fd",
        "id": "jVHu3559-ps3"
      },
      "outputs": [
        {
          "output_type": "stream",
          "name": "stdout",
          "text": [
            "Métrica de rendimiento SK (r2_score) 0.7580723949522936\n",
            "Métrica de rendimiento CPP (r2_score) 0.76238595535912\n"
          ]
        }
      ],
      "source": [
        "# Se extrae las métricas de rendimiento\n",
        "r2Sk = r2_score(y_test, y_test_hatSk)\n",
        "r2Cpp = r2_score(y_test, y_hatCpptest)\n",
        "print(f\"Métrica de rendimiento SK (r2_score) {r2Sk}\")\n",
        "print(f\"Métrica de rendimiento CPP (r2_score) {r2Cpp}\")"
      ]
    },
    {
      "cell_type": "markdown",
      "source": [
        "![image.png](data:image/png;base64,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)"
      ],
      "metadata": {
        "id": "LUbOGBCFCdOG"
      }
    },
    {
      "cell_type": "code",
      "execution_count": null,
      "metadata": {
        "colab": {
          "base_uri": "https://localhost:8080/",
          "height": 406
        },
        "outputId": "c2764e76-cf5b-4a4b-bdb3-2363e068659f",
        "id": "EtEh1z-P-ps3"
      },
      "outputs": [
        {
          "output_type": "display_data",
          "data": {
            "text/plain": [
              "<Figure size 864x432 with 1 Axes>"
            ],
            "image/png": "[encoded data removed]"
          },
          "metadata": {
            "needs_background": "light"
          }
        }
      ],
      "source": [
        "# Se presenta la función de costo\n",
        "plt.figure(figsize=(12, 6))\n",
        "plt.plot(costoCpptest)\n",
        "plt.title('Costo entrenamiento VS épocas entrenamiento Modelo LR CPP del Vino Rojo')\n",
        "plt.ylabel(r'Costo $J(\\theta)$')\n",
        "plt.xlabel('Épocas')\n",
        "plt.show()"
      ]
    },
    {
      "cell_type": "code",
      "execution_count": null,
      "metadata": {
        "id": "ICR1G9K2-ps3"
      },
      "outputs": [],
      "source": [
        "# El gradiente descendiente representa las derivadas parciales\n",
        "# m y b representa los coeficientes\n",
        "# en la función de costo \n",
        "\n",
        "# Se observa que a medida que se itera, se va encontrando el mínimo valor para\n",
        "# que la función de costo sea mínima."
      ]
    },
    {
      "cell_type": "markdown",
      "metadata": {
        "id": "ril7UAgFp9yH"
      },
      "source": [
        "##Cambio del dataframe"
      ]
    },
    {
      "cell_type": "code",
      "execution_count": null,
      "metadata": {
        "id": "R-WzPIt1qC5m"
      },
      "outputs": [],
      "source": [
        "X = df.drop(['charges'], axis=1)\n",
        "y = df['charges']"
      ]
    },
    {
      "cell_type": "code",
      "execution_count": null,
      "metadata": {
        "id": "qU5uFHKzqEmC"
      },
      "outputs": [],
      "source": [
        "new_df=X.assign(charges=y)"
      ]
    },
    {
      "cell_type": "code",
      "execution_count": null,
      "metadata": {
        "colab": {
          "base_uri": "https://localhost:8080/",
          "height": 423
        },
        "id": "bUw397Zjqiuf",
        "outputId": "deb0663c-e336-4335-e8eb-dc030b0b7789"
      },
      "outputs": [
        {
          "output_type": "execute_result",
          "data": {
            "text/plain": [
              "      age  sex     bmi  children  smoker  region      charges\n",
              "0      19    0  27.900         0       0       0  16884.92400\n",
              "1      18    1  33.770         1       1       1   1725.55230\n",
              "2      28    1  33.000         3       1       1   4449.46200\n",
              "3      33    1  22.705         0       1       2  21984.47061\n",
              "4      32    1  28.880         0       1       2   3866.85520\n",
              "...   ...  ...     ...       ...     ...     ...          ...\n",
              "1333   50    1  30.970         3       1       2  10600.54830\n",
              "1334   18    0  31.920         0       1       3   2205.98080\n",
              "1335   18    0  36.850         0       1       1   1629.83350\n",
              "1336   21    0  25.800         0       1       0   2007.94500\n",
              "1337   61    0  29.070         0       0       2  29141.36030\n",
              "\n",
              "[1338 rows x 7 columns]"
            ],
            "text/html": [
              "\n",
              "  <div id=\"df-180f83a5-864d-44a4-b48e-e6069291ff02\">\n",
              "    <div class=\"colab-df-container\">\n",
              "      <div>\n",
              "<style scoped>\n",
              "    .dataframe tbody tr th:only-of-type {\n",
              "        vertical-align: middle;\n",
              "    }\n",
              "\n",
              "    .dataframe tbody tr th {\n",
              "        vertical-align: top;\n",
              "    }\n",
              "\n",
              "    .dataframe thead th {\n",
              "        text-align: right;\n",
              "    }\n",
              "</style>\n",
              "<table border=\"1\" class=\"dataframe\">\n",
              "  <thead>\n",
              "    <tr style=\"text-align: right;\">\n",
              "      <th></th>\n",
              "      <th>age</th>\n",
              "      <th>sex</th>\n",
              "      <th>bmi</th>\n",
              "      <th>children</th>\n",
              "      <th>smoker</th>\n",
              "      <th>region</th>\n",
              "      <th>charges</th>\n",
              "    </tr>\n",
              "  </thead>\n",
              "  <tbody>\n",
              "    <tr>\n",
              "      <th>0</th>\n",
              "      <td>19</td>\n",
              "      <td>0</td>\n",
              "      <td>27.900</td>\n",
              "      <td>0</td>\n",
              "      <td>0</td>\n",
              "      <td>0</td>\n",
              "      <td>16884.92400</td>\n",
              "    </tr>\n",
              "    <tr>\n",
              "      <th>1</th>\n",
              "      <td>18</td>\n",
              "      <td>1</td>\n",
              "      <td>33.770</td>\n",
              "      <td>1</td>\n",
              "      <td>1</td>\n",
              "      <td>1</td>\n",
              "      <td>1725.55230</td>\n",
              "    </tr>\n",
              "    <tr>\n",
              "      <th>2</th>\n",
              "      <td>28</td>\n",
              "      <td>1</td>\n",
              "      <td>33.000</td>\n",
              "      <td>3</td>\n",
              "      <td>1</td>\n",
              "      <td>1</td>\n",
              "      <td>4449.46200</td>\n",
              "    </tr>\n",
              "    <tr>\n",
              "      <th>3</th>\n",
              "      <td>33</td>\n",
              "      <td>1</td>\n",
              "      <td>22.705</td>\n",
              "      <td>0</td>\n",
              "      <td>1</td>\n",
              "      <td>2</td>\n",
              "      <td>21984.47061</td>\n",
              "    </tr>\n",
              "    <tr>\n",
              "      <th>4</th>\n",
              "      <td>32</td>\n",
              "      <td>1</td>\n",
              "      <td>28.880</td>\n",
              "      <td>0</td>\n",
              "      <td>1</td>\n",
              "      <td>2</td>\n",
              "      <td>3866.85520</td>\n",
              "    </tr>\n",
              "    <tr>\n",
              "      <th>...</th>\n",
              "      <td>...</td>\n",
              "      <td>...</td>\n",
              "      <td>...</td>\n",
              "      <td>...</td>\n",
              "      <td>...</td>\n",
              "      <td>...</td>\n",
              "      <td>...</td>\n",
              "    </tr>\n",
              "    <tr>\n",
              "      <th>1333</th>\n",
              "      <td>50</td>\n",
              "      <td>1</td>\n",
              "      <td>30.970</td>\n",
              "      <td>3</td>\n",
              "      <td>1</td>\n",
              "      <td>2</td>\n",
              "      <td>10600.54830</td>\n",
              "    </tr>\n",
              "    <tr>\n",
              "      <th>1334</th>\n",
              "      <td>18</td>\n",
              "      <td>0</td>\n",
              "      <td>31.920</td>\n",
              "      <td>0</td>\n",
              "      <td>1</td>\n",
              "      <td>3</td>\n",
              "      <td>2205.98080</td>\n",
              "    </tr>\n",
              "    <tr>\n",
              "      <th>1335</th>\n",
              "      <td>18</td>\n",
              "      <td>0</td>\n",
              "      <td>36.850</td>\n",
              "      <td>0</td>\n",
              "      <td>1</td>\n",
              "      <td>1</td>\n",
              "      <td>1629.83350</td>\n",
              "    </tr>\n",
              "    <tr>\n",
              "      <th>1336</th>\n",
              "      <td>21</td>\n",
              "      <td>0</td>\n",
              "      <td>25.800</td>\n",
              "      <td>0</td>\n",
              "      <td>1</td>\n",
              "      <td>0</td>\n",
              "      <td>2007.94500</td>\n",
              "    </tr>\n",
              "    <tr>\n",
              "      <th>1337</th>\n",
              "      <td>61</td>\n",
              "      <td>0</td>\n",
              "      <td>29.070</td>\n",
              "      <td>0</td>\n",
              "      <td>0</td>\n",
              "      <td>2</td>\n",
              "      <td>29141.36030</td>\n",
              "    </tr>\n",
              "  </tbody>\n",
              "</table>\n",
              "<p>1338 rows × 7 columns</p>\n",
              "</div>\n",
              "      <button class=\"colab-df-convert\" onclick=\"convertToInteractive('df-180f83a5-864d-44a4-b48e-e6069291ff02')\"\n",
              "              title=\"Convert this dataframe to an interactive table.\"\n",
              "              style=\"display:none;\">\n",
              "        \n",
              "  <svg xmlns=\"http://www.w3.org/2000/svg\" height=\"24px\"viewBox=\"0 0 24 24\"\n",
              "       width=\"24px\">\n",
              "    <path d=\"M0 0h24v24H0V0z\" fill=\"none\"/>\n",
              "    <path d=\"M18.56 5.44l.94 2.06.94-2.06 2.06-.94-2.06-.94-.94-2.06-.94 2.06-2.06.94zm-11 1L8.5 8.5l.94-2.06 2.06-.94-2.06-.94L8.5 2.5l-.94 2.06-2.06.94zm10 10l.94 2.06.94-2.06 2.06-.94-2.06-.94-.94-2.06-.94 2.06-2.06.94z\"/><path d=\"M17.41 7.96l-1.37-1.37c-.4-.4-.92-.59-1.43-.59-.52 0-1.04.2-1.43.59L10.3 9.45l-7.72 7.72c-.78.78-.78 2.05 0 2.83L4 21.41c.39.39.9.59 1.41.59.51 0 1.02-.2 1.41-.59l7.78-7.78 2.81-2.81c.8-.78.8-2.07 0-2.86zM5.41 20L4 18.59l7.72-7.72 1.47 1.35L5.41 20z\"/>\n",
              "  </svg>\n",
              "      </button>\n",
              "      \n",
              "  <style>\n",
              "    .colab-df-container {\n",
              "      display:flex;\n",
              "      flex-wrap:wrap;\n",
              "      gap: 12px;\n",
              "    }\n",
              "\n",
              "    .colab-df-convert {\n",
              "      background-color: #E8F0FE;\n",
              "      border: none;\n",
              "      border-radius: 50%;\n",
              "      cursor: pointer;\n",
              "      display: none;\n",
              "      fill: #1967D2;\n",
              "      height: 32px;\n",
              "      padding: 0 0 0 0;\n",
              "      width: 32px;\n",
              "    }\n",
              "\n",
              "    .colab-df-convert:hover {\n",
              "      background-color: #E2EBFA;\n",
              "      box-shadow: 0px 1px 2px rgba(60, 64, 67, 0.3), 0px 1px 3px 1px rgba(60, 64, 67, 0.15);\n",
              "      fill: #174EA6;\n",
              "    }\n",
              "\n",
              "    [theme=dark] .colab-df-convert {\n",
              "      background-color: #3B4455;\n",
              "      fill: #D2E3FC;\n",
              "    }\n",
              "\n",
              "    [theme=dark] .colab-df-convert:hover {\n",
              "      background-color: #434B5C;\n",
              "      box-shadow: 0px 1px 3px 1px rgba(0, 0, 0, 0.15);\n",
              "      filter: drop-shadow(0px 1px 2px rgba(0, 0, 0, 0.3));\n",
              "      fill: #FFFFFF;\n",
              "    }\n",
              "  </style>\n",
              "\n",
              "      <script>\n",
              "        const buttonEl =\n",
              "          document.querySelector('#df-180f83a5-864d-44a4-b48e-e6069291ff02 button.colab-df-convert');\n",
              "        buttonEl.style.display =\n",
              "          google.colab.kernel.accessAllowed ? 'block' : 'none';\n",
              "\n",
              "        async function convertToInteractive(key) {\n",
              "          const element = document.querySelector('#df-180f83a5-864d-44a4-b48e-e6069291ff02');\n",
              "          const dataTable =\n",
              "            await google.colab.kernel.invokeFunction('convertToInteractive',\n",
              "                                                     [key], {});\n",
              "          if (!dataTable) return;\n",
              "\n",
              "          const docLinkHtml = 'Like what you see? Visit the ' +\n",
              "            '<a target=\"_blank\" href=https://colab.research.google.com/notebooks/data_table.ipynb>data table notebook</a>'\n",
              "            + ' to learn more about interactive tables.';\n",
              "          element.innerHTML = '';\n",
              "          dataTable['output_type'] = 'display_data';\n",
              "          await google.colab.output.renderOutput(dataTable, element);\n",
              "          const docLink = document.createElement('div');\n",
              "          docLink.innerHTML = docLinkHtml;\n",
              "          element.appendChild(docLink);\n",
              "        }\n",
              "      </script>\n",
              "    </div>\n",
              "  </div>\n",
              "  "
            ]
          },
          "metadata": {},
          "execution_count": 60
        }
      ],
      "source": [
        "new_df"
      ]
    },
    {
      "cell_type": "code",
      "execution_count": null,
      "metadata": {
        "id": "XY_BDU4drKmF"
      },
      "outputs": [],
      "source": [
        "new_df.to_csv(r'insuranceHPCCPP.csv',header=False, index=False)"
      ]
    }
  ],
  "metadata": {
    "colab": {
      "collapsed_sections": [],
      "name": "Parcial3(HPC).ipynb",
      "provenance": [],
      "include_colab_link": true
    },
    "kernelspec": {
      "display_name": "Python 3",
      "name": "python3"
    },
    "language_info": {
      "name": "python"
    }
  },
  "nbformat": 4,
  "nbformat_minor": 0
}